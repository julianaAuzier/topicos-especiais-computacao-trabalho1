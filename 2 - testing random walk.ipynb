{
 "cells": [
  {
   "cell_type": "markdown",
   "id": "893a47a2",
   "metadata": {},
   "source": [
    "# Minimização de Funções com Random Walk"
   ]
  },
  {
   "cell_type": "markdown",
   "id": "ea230e6d",
   "metadata": {},
   "source": [
    "### Índice\n",
    "1. [Primeiro caso de teste](#Primeiro-caso-de-teste)<br>\n",
    "    1.1. [Resultados do Primeiro Caso de Teste](#Resultados-do-Primeiro-Caso-de-Teste)<br>\n",
    "2. [Segundo caso de teste](#Segundo-caso-de-teste)<br>\n",
    "    2.1. [Resultado do Segundo Caso de Teste](#Resultado-do-Segundo-Caso-de-Teste)<br>\n",
    "3. [Terceiro caso de teste](#Terceiro-caso-de-teste)<br>\n",
    "    3.1. [Resultados do Terceiro Caso de Teste](#Resultados-do-Terceiro-Caso-de-Teste)"
   ]
  },
  {
   "cell_type": "code",
   "execution_count": 1,
   "id": "dc4ea628",
   "metadata": {},
   "outputs": [],
   "source": [
    "pathFileImages = 'C:/Users/julia/TOPICOS ESPECIAIS EM COMPUTAÇAO/'\n",
    "\n",
    "from IPython.display import Image\n",
    "import numpy as np\n",
    "import matplotlib.pyplot as plt\n",
    "import pandas as pd\n",
    "import math"
   ]
  },
  {
   "cell_type": "markdown",
   "id": "46965dc2",
   "metadata": {},
   "source": [
    "### Funções usadas no código"
   ]
  },
  {
   "cell_type": "code",
   "execution_count": 2,
   "id": "4a6daa1d",
   "metadata": {},
   "outputs": [],
   "source": [
    "def criaPop(tamanho,dim):\n",
    "    return np.random.uniform(0 , 1 , size = (tamanho,dim))\n",
    "\n",
    "#funções de conversão de população para as faixas de cada caso de teste\n",
    "def converter1(pop):\n",
    "    lb = [-3,-2,0]\n",
    "    ub = [3,4,6]\n",
    "    x = lb[0]+(ub[0]-lb[0])*pop[:,:1]\n",
    "    y = lb[1]+(ub[1]-lb[1])*pop[:,1:2]\n",
    "    z = lb[2]+(ub[2]-lb[2])*pop[:,2:]\n",
    "\n",
    "    popconv = np.append(x.reshape(-1, 1), y.reshape(-1, 1), axis=1)\n",
    "    popconv = np.append(popconv, z.reshape(-1, 1), axis=1)\n",
    "    return popconv\n",
    "\n",
    "def converter2(palavra):\n",
    "    lb = np.amin(palavraAlvo)\n",
    "    ub = np.amax(palavraAlvo)\n",
    "    novaPalavra = np.array([])\n",
    "    novaPalavra = lb+(ub - lb)*palavra\n",
    "    \n",
    "    return novaPalavra\n",
    "\n",
    "def converter3(pop):\n",
    "    lb = -5.12\n",
    "    ub = 5.12\n",
    "    novaPop = []\n",
    "    for i in pop:\n",
    "        novaPop.append(lb + (ub - lb) * i)\n",
    "    return np.array(novaPop)\n",
    "\n",
    "#função fitness 1\n",
    "def f(x,y,z):\n",
    "    return 10 * (x - 1)**2 + 20 * (y - 2)**2 + 30 * (z - 3)**2\n",
    "\n",
    "#função fitness 2\n",
    "def diferenca(p1,p2):\n",
    "    diferenca = np.array([])\n",
    "    diferenca = np.c_[(abs(p1 - p2))]\n",
    "    d = np.array([])\n",
    "    for i in range(len(diferenca)):\n",
    "        d = np.append(d,(np.mean(diferenca[i],axis=0)))\n",
    "    return d\n",
    "\n",
    "#função fitness 3\n",
    "def rastrigin(x):\n",
    "    fit=[]\n",
    "    for i in range(len(x)):\n",
    "        n=10 * dim_3 + (x[i]**2 - (10 * math.cos(2 * math.pi * x[i])))\n",
    "        fit.append(n)\n",
    "    return fit\n",
    "\n",
    "def estagnacao(fitAnt, fitAtual):\n",
    "    return abs(fitAnt-fitAtual)/fitAtual\n"
   ]
  },
  {
   "cell_type": "markdown",
   "id": "e5d862cc",
   "metadata": {},
   "source": [
    "### Definição das populações"
   ]
  },
  {
   "cell_type": "code",
   "execution_count": 3,
   "id": "41675fcd",
   "metadata": {},
   "outputs": [],
   "source": [
    "#primeiro caso de teste\n",
    "tamanho = 100\n",
    "dim = 3\n",
    "\n",
    "#segundo caso de teste\n",
    "tamanho_2 = 100\n",
    "dim_2 = 30\n",
    "\n",
    "#terceiro caso de teste\n",
    "tamanho_3 = 50\n",
    "dim_3 = 2"
   ]
  },
  {
   "cell_type": "markdown",
   "id": "bf913810",
   "metadata": {},
   "source": [
    "## Primeiro caso de teste"
   ]
  },
  {
   "cell_type": "code",
   "execution_count": 4,
   "id": "33d5a0ea",
   "metadata": {
    "scrolled": true
   },
   "outputs": [],
   "source": [
    "#população inicial (primeira geração)\n",
    "pop=criaPop(tamanho,dim)"
   ]
  },
  {
   "cell_type": "code",
   "execution_count": 5,
   "id": "ab91e5b1",
   "metadata": {},
   "outputs": [],
   "source": [
    "#converter para as faixas do primeiro caso de teste\n",
    "pop=converter1(pop)\n"
   ]
  },
  {
   "cell_type": "code",
   "execution_count": 6,
   "id": "b9dfb9c2",
   "metadata": {},
   "outputs": [],
   "source": [
    "#fitness\n",
    "pop = np.append(pop,(f(pop[0:,0:1],pop[0:,1:2],pop[0:,2:])).reshape(-1, 1), axis=1)\n"
   ]
  },
  {
   "cell_type": "code",
   "execution_count": 7,
   "id": "bef01448",
   "metadata": {},
   "outputs": [],
   "source": [
    "#ordenação\n",
    "pop_ord = pop[(pop[0:, -1]).argsort()]\n"
   ]
  },
  {
   "cell_type": "code",
   "execution_count": 8,
   "id": "f4f20230",
   "metadata": {},
   "outputs": [],
   "source": [
    "#50% melhores\n",
    "melhor_pop_inicial = pop_ord[0:int(tamanho/2),:]\n"
   ]
  },
  {
   "cell_type": "code",
   "execution_count": 9,
   "id": "6b2bfa15",
   "metadata": {
    "scrolled": true
   },
   "outputs": [
    {
     "name": "stdout",
     "output_type": "stream",
     "text": [
      "Melhor indivíduo para o caso de teste 1:\n",
      " [0.97360734 2.06147091 3.04890854]\n"
     ]
    }
   ],
   "source": [
    "#contagem de população estagnada\n",
    "cont = 0\n",
    "delta = 0.01\n",
    "sem_evoluir = 1000\n",
    "i_desejadas = 5\n",
    "tabela = pd.DataFrame()\n",
    "\n",
    "for j in range(i_desejadas):\n",
    "\n",
    "    melhor_i=np.array([])\n",
    "    \n",
    "    nova_melhor_pop = melhor_pop_inicial.copy()\n",
    "\n",
    "    #novos 50% da população\n",
    "    nova_pop = criaPop(int(tamanho/2),dim)\n",
    "\n",
    "    #converter para as faixas\n",
    "    nova_pop = converter1(nova_pop)\n",
    "\n",
    "    #fitness da nova população\n",
    "    nova_pop = np.append(nova_pop,(f(nova_pop[0:,0:1],nova_pop[0:,1:2],nova_pop[0:,2:])).reshape(-1, 1), axis=1)\n",
    "\n",
    "    #melhor 50% pop anterior + 50% nova população\n",
    "    nova_melhor_pop = np.append(nova_melhor_pop,(nova_pop),axis= 0)\n",
    "\n",
    "    #reordena\n",
    "    melhor_pop = nova_melhor_pop[(nova_melhor_pop[0:, -1]).argsort()]\n",
    "\n",
    "    #melhor fit dessa geração\n",
    "    melhor_i= np.array(melhor_pop[0:1,:])\n",
    "    \n",
    "    for i in range(1000):\n",
    "        \n",
    "        #gerações posteriores\n",
    "        \n",
    "        nova_melhor_pop = melhor_pop[0:int(tamanho/2),:]\n",
    "\n",
    "        nova_pop = criaPop(int(tamanho/2),dim)\n",
    "\n",
    "        nova_pop = converter1(nova_pop)\n",
    "\n",
    "        nova_pop = np.append(nova_pop,(f(nova_pop[0:,0:1],nova_pop[0:,1:2],nova_pop[0:,2:])).reshape(-1, 1), axis=1)\n",
    "\n",
    "        nova_melhor_pop = np.append(nova_melhor_pop,(nova_pop),axis= 0)\n",
    "\n",
    "        melhor_pop = nova_melhor_pop[nova_melhor_pop[0:, -1].argsort()]\n",
    "\n",
    "        melhor_i= np.append(melhor_i,melhor_pop[0:1,:],axis=0)\n",
    "\n",
    "        evolucao = estagnacao(melhor_i[i-1,-1],melhor_i[i,-1])\n",
    "        \n",
    "        if evolucao <= delta:\n",
    "            cont += 1\n",
    "            \n",
    "        elif evolucao > delta:\n",
    "            cont=0\n",
    "\n",
    "        elif sem_evoluir == cont:\n",
    "            break\n",
    "\n",
    "    tabela = pd.concat([tabela, pd.DataFrame(melhor_i)], axis=1)\n",
    "\n",
    "print('Melhor indivíduo para o caso de teste 1:\\n', melhor_i[-1,:-1])\n"
   ]
  },
  {
   "cell_type": "code",
   "execution_count": 10,
   "id": "17aea1d6",
   "metadata": {},
   "outputs": [
    {
     "data": {
      "text/plain": [
       "(1001, 4)"
      ]
     },
     "execution_count": 10,
     "metadata": {},
     "output_type": "execute_result"
    }
   ],
   "source": [
    "#media e desvio padrao dos fits\n",
    "desvioP = np.std(tabela[3],axis=1)\n",
    "media = np.mean(tabela[3],axis=1)\n",
    "desvioSup = media + desvioP\n",
    "desvioInf = media - desvioP\n",
    "melhor_i.shape"
   ]
  },
  {
   "cell_type": "code",
   "execution_count": 11,
   "id": "457cd95d",
   "metadata": {
    "scrolled": true
   },
   "outputs": [],
   "source": [
    "#plt.title(\"Média de Fitness Por Geração\")\n",
    "#plt.xlabel(\"Geração\")\n",
    "#plt.ylabel(\"Média e Desvio Padrão de Fitness\")\n",
    "#plt.plot(media, color = \"red\", label = \"Média\")\n",
    "#plt.fill_between(range(len(media)), desvioSup, desvioInf, facecolor='red', alpha=0.3, label ='Desvio padrão')\n",
    "#plt.grid(True)\n",
    "#plt.legend()\n",
    "#plt.show()"
   ]
  },
  {
   "cell_type": "markdown",
   "id": "dae7d207",
   "metadata": {},
   "source": [
    "## Resultados do Primeiro Caso de Teste"
   ]
  },
  {
   "cell_type": "markdown",
   "id": "f01fea9e",
   "metadata": {},
   "source": [
    "### População de tamanho 10"
   ]
  },
  {
   "cell_type": "code",
   "execution_count": 12,
   "id": "151906ed",
   "metadata": {},
   "outputs": [
    {
     "data": {
      "image/png": "[encoded data removed]",
      "text/plain": [
       "<IPython.core.display.Image object>"
      ]
     },
     "execution_count": 12,
     "metadata": {},
     "output_type": "execute_result"
    }
   ],
   "source": [
    "Image(filename = pathFileImages + '1 Caso de teste - pop10.png')"
   ]
  },
  {
   "cell_type": "markdown",
   "id": "2058306c",
   "metadata": {},
   "source": [
    "### População de tamanho 50"
   ]
  },
  {
   "cell_type": "code",
   "execution_count": 13,
   "id": "e63bf9d7",
   "metadata": {},
   "outputs": [
    {
     "data": {
      "image/png": "[encoded data removed]",
      "text/plain": [
       "<IPython.core.display.Image object>"
      ]
     },
     "execution_count": 13,
     "metadata": {},
     "output_type": "execute_result"
    }
   ],
   "source": [
    "Image(filename = pathFileImages + '1 Caso de teste - pop50.png')"
   ]
  },
  {
   "cell_type": "markdown",
   "id": "3478861c",
   "metadata": {},
   "source": [
    "### População de tamanho 100"
   ]
  },
  {
   "cell_type": "code",
   "execution_count": 14,
   "id": "c3e965d7",
   "metadata": {},
   "outputs": [
    {
     "data": {
      "image/png": "[encoded data removed]",
      "text/plain": [
       "<IPython.core.display.Image object>"
      ]
     },
     "execution_count": 14,
     "metadata": {},
     "output_type": "execute_result"
    }
   ],
   "source": [
    "Image(filename = pathFileImages + '1 Caso de teste - pop100.png')"
   ]
  },
  {
   "cell_type": "markdown",
   "id": "5f4f4ef2",
   "metadata": {},
   "source": [
    "[Início](#Índice)"
   ]
  },
  {
   "cell_type": "markdown",
   "id": "520b6334",
   "metadata": {
    "scrolled": false
   },
   "source": [
    "## Segundo caso de teste"
   ]
  },
  {
   "cell_type": "code",
   "execution_count": 15,
   "id": "5a88eeff",
   "metadata": {},
   "outputs": [],
   "source": [
    "palavraAlvo = np.array([[\n",
    "52.547,\n",
    "72.154,\n",
    "53.694,\n",
    "57.771,\n",
    "115.88,\n",
    "105.59,\n",
    "75.368,\n",
    "126.02,\n",
    "52.756,\n",
    "85.100,\n",
    "80.525,\n",
    "111.24,\n",
    "113.62,\n",
    "64.95,\n",
    "89.181,\n",
    "85.647,\n",
    "101.71,\n",
    "106.75,\n",
    "110.37,\n",
    "72.082,\n",
    "104.38,\n",
    "102.41,\n",
    "63.009,\n",
    "59.52,\n",
    "89.869,\n",
    "126.78,\n",
    "77.231,\n",
    "96.821,\n",
    "67.905,\n",
    "110.1]])"
   ]
  },
  {
   "cell_type": "code",
   "execution_count": 16,
   "id": "a952377f",
   "metadata": {},
   "outputs": [],
   "source": [
    "#palavra aleatoria\n",
    "palavra=criaPop(tamanho_2,dim_2)\n",
    "palavra = np.array(converter2(criaPop(tamanho_2,dim_2)))"
   ]
  },
  {
   "cell_type": "code",
   "execution_count": 17,
   "id": "073444e7",
   "metadata": {},
   "outputs": [],
   "source": [
    "d = diferenca(palavraAlvo,palavra) #diferenca entre cada elemento"
   ]
  },
  {
   "cell_type": "code",
   "execution_count": 18,
   "id": "ac22cf30",
   "metadata": {},
   "outputs": [],
   "source": [
    "#palavra + fitness\n",
    "palavra = np.append(palavra,diferenca(palavraAlvo,palavra).reshape(-1,1),axis=1)"
   ]
  },
  {
   "cell_type": "code",
   "execution_count": 19,
   "id": "3bf3a60b",
   "metadata": {},
   "outputs": [],
   "source": [
    "#ordenação e poda\n",
    "palavra_ord = palavra[(palavra[0:, -1]).argsort()]\n",
    "melhor_palavra_inicial = palavra_ord[0:int(tamanho_2/2),:]"
   ]
  },
  {
   "cell_type": "code",
   "execution_count": 20,
   "id": "45dacd69",
   "metadata": {
    "scrolled": true
   },
   "outputs": [
    {
     "name": "stdout",
     "output_type": "stream",
     "text": [
      "Melhor palavra encontrada:\n",
      " [ 58.48594085  74.34511788  86.22149886  63.99472074 124.5011179\n",
      " 124.4046663  105.24943678 118.4066196   61.55587374 115.98090483\n",
      "  67.02897159 113.29940946  87.75227483  76.91008612  89.68788464\n",
      "  60.78595608  82.8738219  117.53018038  83.17276457 113.80459397\n",
      "  89.16860888 105.34978618  82.76627072  61.26417317  91.32076221\n",
      "  93.99234525  76.30917125  95.79501375  71.60691409 111.16198509]\n"
     ]
    }
   ],
   "source": [
    "#contagem de geração estagnada\n",
    "cont = 0\n",
    "delta = 0.01\n",
    "sem_evoluir = 1000\n",
    "i_desejadas = 10\n",
    "evolucao = 0\n",
    "tabela2 = pd.DataFrame()\n",
    "\n",
    "for j in range(i_desejadas):\n",
    "\n",
    "    nova_melhor_pop = melhor_palavra_inicial.copy()\n",
    "\n",
    "    nova_pop = criaPop(int(tamanho_2/2),dim_2)\n",
    "\n",
    "    nova_pop = converter2(nova_pop)\n",
    "    \n",
    "    nova_pop = np.append(nova_pop,(diferenca(palavraAlvo,nova_pop)).reshape(-1,1),axis=1)\n",
    "\n",
    "    nova_melhor_pop = np.append(nova_melhor_pop,(nova_pop),axis= 0)\n",
    "    \n",
    "    melhor_pop = nova_melhor_pop[nova_melhor_pop[0:, -1].argsort()]\n",
    "\n",
    "    melhor_i= np.array(melhor_pop[0:1,:])\n",
    "    \n",
    "    for i in range(sem_evoluir):\n",
    "        \n",
    "        nova_melhor_pop = melhor_pop[0:int(tamanho_2/2),:]\n",
    "\n",
    "        nova_pop = criaPop(int(tamanho_2/2),dim_2)\n",
    "\n",
    "        nova_pop = converter2(nova_pop)\n",
    "\n",
    "        nova_pop = np.append(nova_pop,(diferenca(palavraAlvo,nova_pop)).reshape(-1,1),axis=1)\n",
    "\n",
    "        nova_melhor_pop = np.append(nova_melhor_pop,(nova_pop),axis= 0)\n",
    "\n",
    "        melhor_pop = nova_melhor_pop[nova_melhor_pop[0:, -1].argsort()]\n",
    "\n",
    "        melhor_i= np.append(melhor_i,melhor_pop[0:1,:],axis=0)\n",
    "        \n",
    "        evolucao = estagnacao(melhor_i[i-1,-1],melhor_i[i,-1])\n",
    "        \n",
    "        if evolucao <= delta:\n",
    "            cont += 1\n",
    "            \n",
    "        elif evolucao > delta:\n",
    "            cont=0\n",
    "\n",
    "        elif sem_evoluir == cont:\n",
    "            break\n",
    "            \n",
    "    tabela2 = pd.concat([tabela2, pd.DataFrame(melhor_i)], axis=1)\n",
    "print(\"Melhor palavra encontrada:\\n\",melhor_i[-1,:-1])#,\"\\n\\nDiferença media entre os individuos da melhor palavra e a palavra alvo:\\n\", nova_melhor_pop[0, -1])"
   ]
  },
  {
   "cell_type": "code",
   "execution_count": 21,
   "id": "49b8d99b",
   "metadata": {},
   "outputs": [],
   "source": [
    "#media e desvio padrao dos fits\n",
    "desvioP2 = np.std(tabela2[30],axis=1)\n",
    "media2 = np.mean(tabela2[30],axis=1)\n",
    "desvioInf2 = media2 - desvioP2\n",
    "desvioSup2 = media2 + desvioP2"
   ]
  },
  {
   "cell_type": "code",
   "execution_count": 22,
   "id": "c6c5dbac",
   "metadata": {},
   "outputs": [],
   "source": [
    "#plt.title(\"Média de Fitness Por Geração\")\n",
    "#plt.xlabel(\"Geração\")\n",
    "#plt.ylabel(\"Média e Desvio Padrão de Fitness\")\n",
    "#lt.plot(media2, color = \"green\", label = \"Média\")\n",
    "#lt.fill_between(range(len(media2)), desvioSup2, desvioInf2, facecolor='green', alpha=0.3, label ='Desvio padrão')\n",
    "#plt.grid(True)\n",
    "#plt.legend()\n",
    "#plt.show()\n",
    "#print('\\nNúmero de iterações para a última convergência: ',i+1)"
   ]
  },
  {
   "cell_type": "markdown",
   "id": "0b5aa041",
   "metadata": {},
   "source": [
    "## Resultados do Segundo Caso de Teste"
   ]
  },
  {
   "cell_type": "markdown",
   "id": "31a8379f",
   "metadata": {},
   "source": [
    "### População de tamanho 10"
   ]
  },
  {
   "cell_type": "code",
   "execution_count": 23,
   "id": "499b7400",
   "metadata": {},
   "outputs": [
    {
     "data": {
      "image/png": "[encoded data removed]",
      "text/plain": [
       "<IPython.core.display.Image object>"
      ]
     },
     "execution_count": 23,
     "metadata": {},
     "output_type": "execute_result"
    }
   ],
   "source": [
    "Image(filename = pathFileImages + '2 Caso de teste - pop10.png')"
   ]
  },
  {
   "cell_type": "markdown",
   "id": "8af0b0b7",
   "metadata": {},
   "source": [
    "### População de tamanho 50"
   ]
  },
  {
   "cell_type": "code",
   "execution_count": 24,
   "id": "3fdbfa92",
   "metadata": {},
   "outputs": [
    {
     "data": {
      "image/png": "[encoded data removed]",
      "text/plain": [
       "<IPython.core.display.Image object>"
      ]
     },
     "execution_count": 24,
     "metadata": {},
     "output_type": "execute_result"
    }
   ],
   "source": [
    "Image(filename = pathFileImages + '2 Caso de teste - pop50.png')"
   ]
  },
  {
   "cell_type": "markdown",
   "id": "6c55510f",
   "metadata": {},
   "source": [
    "### População de tamanho 100"
   ]
  },
  {
   "cell_type": "code",
   "execution_count": 25,
   "id": "2bd10ecc",
   "metadata": {},
   "outputs": [
    {
     "data": {
      "image/png": "[encoded data removed]",
      "text/plain": [
       "<IPython.core.display.Image object>"
      ]
     },
     "execution_count": 25,
     "metadata": {},
     "output_type": "execute_result"
    }
   ],
   "source": [
    "Image(filename = pathFileImages + '2 Caso de teste - pop100.png')"
   ]
  },
  {
   "cell_type": "markdown",
   "id": "830c87ec",
   "metadata": {},
   "source": [
    "[Início](#Índice)<br>"
   ]
  },
  {
   "cell_type": "markdown",
   "id": "3e50741b",
   "metadata": {},
   "source": [
    "## Terceiro caso de teste"
   ]
  },
  {
   "cell_type": "code",
   "execution_count": 26,
   "id": "ccc59e4b",
   "metadata": {},
   "outputs": [],
   "source": [
    "pop_3 = criaPop(tamanho_3,dim_3)\n",
    "pop_3 = pop_3.T"
   ]
  },
  {
   "cell_type": "code",
   "execution_count": 27,
   "id": "a897a535",
   "metadata": {},
   "outputs": [],
   "source": [
    "pop3 = converter3(pop_3)\n",
    "for i in pop3:\n",
    "    p=rastrigin(i)\n",
    "p=np.array(p)"
   ]
  },
  {
   "cell_type": "code",
   "execution_count": 28,
   "id": "0afe79ba",
   "metadata": {},
   "outputs": [],
   "source": [
    "#pop add fitness\n",
    "pop_3 = pop_3.T\n",
    "pop_3 = np.append(pop_3,p.reshape(-1,1),axis=1)\n"
   ]
  },
  {
   "cell_type": "code",
   "execution_count": 29,
   "id": "c4d9c033",
   "metadata": {},
   "outputs": [],
   "source": [
    "#ordenação e poda\n",
    "pop3 = pop_3[abs(pop_3[0:,-1]).argsort()] \n",
    "melhor_pop3_inicial= pop3[0:int(tamanho_3/2),:] \n"
   ]
  },
  {
   "cell_type": "code",
   "execution_count": 30,
   "id": "0f41f44f",
   "metadata": {},
   "outputs": [],
   "source": [
    "#contagem de geração estagnada\n",
    "cont = 0\n",
    "delta = 0.01\n",
    "sem_evoluir = 1000\n",
    "i_desejadas = 10"
   ]
  },
  {
   "cell_type": "code",
   "execution_count": 31,
   "id": "cc9a091b",
   "metadata": {},
   "outputs": [
    {
     "name": "stdout",
     "output_type": "stream",
     "text": [
      "Melhor indivíduo das gerações:\n",
      "           0         1\n",
      "0  3.748984  0.000181\n"
     ]
    }
   ],
   "source": [
    "tabela3 = pd.DataFrame()\n",
    "\n",
    "for j in range(i_desejadas):\n",
    "\n",
    "    melhor_i=[]\n",
    "\n",
    "    for i in range(sem_evoluir):\n",
    "        \n",
    "        if i==0:\n",
    "            nova_melhor_pop = melhor_pop3_inicial.copy()\n",
    "\n",
    "            nova_pop = np.array(criaPop(int(tamanho_3/2),dim_3)).T\n",
    "            \n",
    "            nova_pop = converter3(nova_pop)\n",
    "\n",
    "            for i in nova_pop:\n",
    "                fit=rastrigin(i)\n",
    "            fit=np.array(fit)\n",
    "            \n",
    "            nova_pop=nova_pop.T\n",
    "            nova_pop=np.c_[nova_pop,fit.T]\n",
    "            \n",
    "            nova_melhor_pop = np.append(nova_melhor_pop,(nova_pop),axis= 0)\n",
    "            \n",
    "            melhor_pop = nova_melhor_pop[abs(nova_melhor_pop[0:, -1]).argsort()]\n",
    "            \n",
    "            melhor_i.append(melhor_pop[0:1,-1])\n",
    "            \n",
    "        elif i>0:\n",
    "            nova_melhor_pop = melhor_pop[0:int(tamanho_3/2),:]\n",
    "\n",
    "            nova_pop = np.array(criaPop(int(tamanho_3/2),dim_3)).T\n",
    "            \n",
    "            nova_pop = converter3(nova_pop)\n",
    "\n",
    "            for k in nova_pop:\n",
    "                fit=rastrigin(k)\n",
    "            fit=np.array(fit)\n",
    "            \n",
    "            nova_pop=nova_pop.T\n",
    "            nova_pop=np.c_[nova_pop,fit.T]\n",
    "            \n",
    "            nova_melhor_pop = np.append(nova_melhor_pop,(nova_pop),axis= 0)\n",
    "            \n",
    "            melhor_pop = nova_melhor_pop[abs(nova_melhor_pop[0:, -1]).argsort()]\n",
    "            \n",
    "            melhor_i.append(melhor_pop[0:1,-1])\n",
    "            \n",
    "            evolucao = estagnacao(melhor_i[i-1],melhor_i[i])\n",
    "            \n",
    "            if evolucao <= delta:\n",
    "                cont += 1\n",
    "\n",
    "            elif evolucao > delta:\n",
    "                cont=0\n",
    "\n",
    "            elif sem_evoluir == cont:\n",
    "                continue\n",
    "\n",
    "    tabela3 = pd.concat([tabela3, pd.DataFrame(melhor_i)], axis=1)\n",
    "\n",
    "#media e desvio padrao dos fits\n",
    "desvioP3 = np.std(tabela3,axis=1)\n",
    "media3 = np.mean(tabela3,axis=1)\n",
    "desvioInf3 = media3 - desvioP3\n",
    "desvioSup3 = media3 + desvioP3\n",
    "\n",
    "print('Melhor indivíduo das gerações:\\n', pd.DataFrame(melhor_pop[:1,:-1]))"
   ]
  },
  {
   "cell_type": "code",
   "execution_count": 32,
   "id": "2e913d31",
   "metadata": {},
   "outputs": [],
   "source": [
    "#plt.title(\"Média de Fitness Por Geração\")\n",
    "#plt.xlabel(\"Geração\")\n",
    "#plt.ylabel(\"Média e Desvio Padrão de Fitness\")\n",
    "#plt.plot(media3, color = \"blue\", label = \"Média\")\n",
    "#plt.fill_between(range(len(media3)), desvioSup3, desvioInf3, facecolor='blue', alpha=0.3, label ='Desvio padrão')\n",
    "#plt.grid(True)\n",
    "#plt.legend()\n",
    "#plt.show()\n"
   ]
  },
  {
   "cell_type": "markdown",
   "id": "f76863a4",
   "metadata": {},
   "source": [
    "## Resultados do Terceiro Caso de Teste"
   ]
  },
  {
   "cell_type": "markdown",
   "id": "2a6b03d8",
   "metadata": {},
   "source": [
    "### População de tamanho 10"
   ]
  },
  {
   "cell_type": "code",
   "execution_count": 33,
   "id": "85c7b671",
   "metadata": {},
   "outputs": [
    {
     "data": {
      "image/png": "[encoded data removed]",
      "text/plain": [
       "<IPython.core.display.Image object>"
      ]
     },
     "execution_count": 33,
     "metadata": {},
     "output_type": "execute_result"
    }
   ],
   "source": [
    "Image(filename = pathFileImages + '3 Caso de teste - pop10.png')"
   ]
  },
  {
   "cell_type": "markdown",
   "id": "d1a8d8dd",
   "metadata": {},
   "source": [
    "### População de tamanho 50"
   ]
  },
  {
   "cell_type": "code",
   "execution_count": 34,
   "id": "00d73caa",
   "metadata": {},
   "outputs": [
    {
     "data": {
      "image/png": "[encoded data removed]",
      "text/plain": [
       "<IPython.core.display.Image object>"
      ]
     },
     "execution_count": 34,
     "metadata": {},
     "output_type": "execute_result"
    }
   ],
   "source": [
    "Image(filename = pathFileImages + '3 Caso de teste - pop50.png')"
   ]
  },
  {
   "cell_type": "markdown",
   "id": "db96f438",
   "metadata": {},
   "source": [
    "### População de tamanho 100"
   ]
  },
  {
   "cell_type": "code",
   "execution_count": 35,
   "id": "00cfe4bf",
   "metadata": {},
   "outputs": [
    {
     "data": {
      "image/png": "[encoded data removed]",
      "text/plain": [
       "<IPython.core.display.Image object>"
      ]
     },
     "execution_count": 35,
     "metadata": {},
     "output_type": "execute_result"
    }
   ],
   "source": [
    "Image(filename = pathFileImages + '3 Caso de teste - pop100.png')"
   ]
  },
  {
   "cell_type": "markdown",
   "id": "5103eabe",
   "metadata": {},
   "source": [
    "[Início](#Índice)<br>"
   ]
  },
  {
   "cell_type": "code",
   "execution_count": null,
   "id": "12eb81bd",
   "metadata": {},
   "outputs": [],
   "source": []
  }
 ],
 "metadata": {
  "kernelspec": {
   "display_name": "Python 3 (ipykernel)",
   "language": "python",
   "name": "python3"
  },
  "language_info": {
   "codemirror_mode": {
    "name": "ipython",
    "version": 3
   },
   "file_extension": ".py",
   "mimetype": "text/x-python",
   "name": "python",
   "nbconvert_exporter": "python",
   "pygments_lexer": "ipython3",
   "version": "3.9.7"
  }
 },
 "nbformat": 4,
 "nbformat_minor": 5
}
