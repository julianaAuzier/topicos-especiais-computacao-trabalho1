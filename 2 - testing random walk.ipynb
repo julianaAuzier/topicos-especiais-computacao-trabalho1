{
 "cells": [
  {
   "cell_type": "code",
   "execution_count": 1,
   "id": "dc4ea628",
   "metadata": {},
   "outputs": [],
   "source": [
    "import numpy as np\n",
    "import matplotlib.pyplot as plt"
   ]
  },
  {
   "cell_type": "code",
   "execution_count": 39,
   "id": "6ba667ba",
   "metadata": {},
   "outputs": [],
   "source": [
    "#funcao\n",
    "def f(x,y,z):\n",
    "    return 10 * (x - 1)**2 + 20 * (y - 2)**2 + 30 * (z - 3)**2\n",
    "\n",
    "def criaPop(tamanho,dim):\n",
    "    return np.random.uniform(0 , 1 , size = (tamanho,dim))\n",
    "\n",
    "def converter1(pop):\n",
    "    lb = [-3,-2,0]\n",
    "    ub = [3,4,6]\n",
    "    x = lb[0]+(ub[0]-lb[0])*pop[:,:1]\n",
    "    y = lb[1]+(ub[1]-lb[1])*pop[:,1:2]\n",
    "    z = lb[2]+(ub[2]-lb[2])*pop[:,2:]\n",
    "\n",
    "    #nova população com valores convertidos\n",
    "    popconv = np.append(x.reshape(-1, 1), y.reshape(-1, 1), axis=1)\n",
    "    popconv = np.append(popconv, z.reshape(-1, 1), axis=1)\n",
    "    return popconv\n",
    "\n",
    "def estagnacao(fitAnt, fitAtual):\n",
    "    return abs(fitAnt-fitAtual)/fitAtual\n"
   ]
  },
  {
   "cell_type": "markdown",
   "id": "762d12d2",
   "metadata": {},
   "source": [
    "## Primeiro caso de teste"
   ]
  },
  {
   "cell_type": "code",
   "execution_count": 19,
   "id": "33d5a0ea",
   "metadata": {
    "scrolled": true
   },
   "outputs": [
    {
     "data": {
      "text/plain": [
       "array([[0.51015618, 0.87690087, 0.7207426 ],\n",
       "       [0.24222298, 0.44579738, 0.73684627],\n",
       "       [0.59728425, 0.76723022, 0.64159185],\n",
       "       [0.89078237, 0.60365357, 0.35965662],\n",
       "       [0.73696353, 0.53645019, 0.67135564],\n",
       "       [0.08323334, 0.91247968, 0.2180871 ],\n",
       "       [0.10314669, 0.97513819, 0.51001427],\n",
       "       [0.11683076, 0.47846252, 0.99349081],\n",
       "       [0.1191133 , 0.97277562, 0.36423121],\n",
       "       [0.94955366, 0.16469613, 0.92937544]])"
      ]
     },
     "execution_count": 19,
     "metadata": {},
     "output_type": "execute_result"
    }
   ],
   "source": [
    "#população inicial (primeira geração)\n",
    "n_pop = 10\n",
    "dim = 3\n",
    "pop=criaPop(n_pop,dim)\n",
    "pop"
   ]
  },
  {
   "cell_type": "code",
   "execution_count": 43,
   "id": "45623bd3",
   "metadata": {},
   "outputs": [
    {
     "data": {
      "text/plain": [
       "array([[ -2.63437735,  17.56843147,  25.9467336 ],\n",
       "       [-12.27997268,   2.04870573,  26.52646584],\n",
       "       [  0.50223296,  13.62028779,  23.09730646],\n",
       "       [ 11.06816524,   7.73152865,  12.94763815],\n",
       "       [  5.53068697,   5.31220677,  24.16880302],\n",
       "       [-18.0035996 ,  18.84926844,   7.8511357 ],\n",
       "       [-17.28671908,  21.10497488,  18.36051357],\n",
       "       [-16.79409278,   3.22465073,  35.76566931],\n",
       "       [-16.71192122,  21.01992246,  13.11232357],\n",
       "       [ 13.18393193,  -8.07093935,  33.45751579]])"
      ]
     },
     "execution_count": 43,
     "metadata": {},
     "output_type": "execute_result"
    }
   ],
   "source": [
    "#converter para as faixas do primeiro caso de teste\n",
    "pop=converter1(pop)\n",
    "pop"
   ]
  },
  {
   "cell_type": "code",
   "execution_count": 44,
   "id": "b9dfb9c2",
   "metadata": {},
   "outputs": [
    {
     "data": {
      "text/plain": [
       "array([[-2.63437735e+00,  1.75684315e+01,  2.59467336e+01,\n",
       "         2.07761856e+04],\n",
       "       [-1.22799727e+01,  2.04870573e+00,  2.65264658e+01,\n",
       "         1.83684620e+04],\n",
       "       [ 5.02232963e-01,  1.36202878e+01,  2.30973065e+01,\n",
       "         1.48201513e+04],\n",
       "       [ 1.10681652e+01,  7.73152865e+00,  1.29476381e+01,\n",
       "         4.63935307e+03],\n",
       "       [ 5.53068697e+00,  5.31220677e+00,  2.41688030e+01,\n",
       "         1.38682322e+04],\n",
       "       [-1.80035996e+01,  1.88492684e+01,  7.85113570e+00,\n",
       "         9.99533045e+03],\n",
       "       [-1.72867191e+01,  2.11049749e+01,  1.83605136e+01,\n",
       "         1.77224036e+04],\n",
       "       [-1.67940928e+01,  3.22465073e+00,  3.57656693e+01,\n",
       "         3.54039653e+04],\n",
       "       [-1.67119212e+01,  2.10199225e+01,  1.31123236e+01,\n",
       "         1.34400432e+04],\n",
       "       [ 1.31839319e+01, -8.07093935e+00,  3.34575158e+01,\n",
       "         3.13427664e+04]])"
      ]
     },
     "execution_count": 44,
     "metadata": {},
     "output_type": "execute_result"
    }
   ],
   "source": [
    "#fitness\n",
    "pop = np.append(pop,(f(pop[0:,0:1],pop[0:,1:2],pop[0:,2:])).reshape(-1, 1), axis=1)\n",
    "pop"
   ]
  },
  {
   "cell_type": "code",
   "execution_count": 45,
   "id": "bef01448",
   "metadata": {},
   "outputs": [
    {
     "data": {
      "text/plain": [
       "array([[ 1.10681652e+01,  7.73152865e+00,  1.29476381e+01,\n",
       "         4.63935307e+03],\n",
       "       [-1.80035996e+01,  1.88492684e+01,  7.85113570e+00,\n",
       "         9.99533045e+03],\n",
       "       [-1.67119212e+01,  2.10199225e+01,  1.31123236e+01,\n",
       "         1.34400432e+04],\n",
       "       [ 5.53068697e+00,  5.31220677e+00,  2.41688030e+01,\n",
       "         1.38682322e+04],\n",
       "       [ 5.02232963e-01,  1.36202878e+01,  2.30973065e+01,\n",
       "         1.48201513e+04],\n",
       "       [-1.72867191e+01,  2.11049749e+01,  1.83605136e+01,\n",
       "         1.77224036e+04],\n",
       "       [-1.22799727e+01,  2.04870573e+00,  2.65264658e+01,\n",
       "         1.83684620e+04],\n",
       "       [-2.63437735e+00,  1.75684315e+01,  2.59467336e+01,\n",
       "         2.07761856e+04],\n",
       "       [ 1.31839319e+01, -8.07093935e+00,  3.34575158e+01,\n",
       "         3.13427664e+04],\n",
       "       [-1.67940928e+01,  3.22465073e+00,  3.57656693e+01,\n",
       "         3.54039653e+04]])"
      ]
     },
     "execution_count": 45,
     "metadata": {},
     "output_type": "execute_result"
    }
   ],
   "source": [
    "#ordenação\n",
    "pop_ord = pop[pop[0:, -1].argsort()]\n",
    "pop_ord"
   ]
  },
  {
   "cell_type": "code",
   "execution_count": 46,
   "id": "f4f20230",
   "metadata": {},
   "outputs": [
    {
     "data": {
      "text/plain": [
       "array([[ 1.10681652e+01,  7.73152865e+00,  1.29476381e+01,\n",
       "         4.63935307e+03],\n",
       "       [-1.80035996e+01,  1.88492684e+01,  7.85113570e+00,\n",
       "         9.99533045e+03],\n",
       "       [-1.67119212e+01,  2.10199225e+01,  1.31123236e+01,\n",
       "         1.34400432e+04],\n",
       "       [ 5.53068697e+00,  5.31220677e+00,  2.41688030e+01,\n",
       "         1.38682322e+04],\n",
       "       [ 5.02232963e-01,  1.36202878e+01,  2.30973065e+01,\n",
       "         1.48201513e+04]])"
      ]
     },
     "execution_count": 46,
     "metadata": {},
     "output_type": "execute_result"
    }
   ],
   "source": [
    "#50% melhores\n",
    "melhor_pop_inicial = pop_ord[0:int(n_pop/2),:]\n",
    "melhor_pop_inicial"
   ]
  },
  {
   "cell_type": "code",
   "execution_count": 47,
   "id": "a925021a",
   "metadata": {},
   "outputs": [],
   "source": [
    "#contagem de população estagnada\n",
    "cont = 0\n",
    "delta = 0.01"
   ]
  },
  {
   "cell_type": "code",
   "execution_count": 122,
   "id": "6b2bfa15",
   "metadata": {},
   "outputs": [
    {
     "name": "stdout",
     "output_type": "stream",
     "text": [
      "Número de iterações:  99\n"
     ]
    },
    {
     "data": {
      "text/plain": [
       "[<matplotlib.lines.Line2D at 0x14c92ab8e20>]"
      ]
     },
     "execution_count": 122,
     "metadata": {},
     "output_type": "execute_result"
    },
    {
     "data": {
      "image/png": "[encoded data removed]",
      "text/plain": [
       "<Figure size 432x288 with 1 Axes>"
      ]
     },
     "metadata": {
      "needs_background": "light"
     },
     "output_type": "display_data"
    }
   ],
   "source": [
    "melhor_i=[]\n",
    "sem_evoluir = 100\n",
    "\n",
    "for i in range(sem_evoluir):\n",
    "    #segunda geracao\n",
    "    if i==0:\n",
    "        nova_melhor_pop = melhor_pop_inicial.copy()\n",
    "\n",
    "        #novos 50% da população\n",
    "        nova_pop = criaPop(int(n_pop/2),dim)\n",
    "        \n",
    "        #converter para as faixas\n",
    "        nova_pop = converter1(nova_pop)\n",
    "        \n",
    "        #fitness da nova população\n",
    "        nova_pop = np.append(nova_pop,(f(nova_pop[0:,0:1],nova_pop[0:,1:2],nova_pop[0:,2:])).reshape(-1, 1), axis=1)\n",
    "\n",
    "        #melhor 50% pop anterior + 50% nova população\n",
    "        nova_melhor_pop = np.append(nova_melhor_pop,(nova_pop),axis= 0)\n",
    "\n",
    "        #reordena\n",
    "        melhor_pop = nova_melhor_pop[nova_melhor_pop[0:, 3].argsort()]\n",
    "    \n",
    "        #melhor individuo dessa geração\n",
    "        melhor_i.append(melhor_pop[0:1,-1])\n",
    "        \n",
    "    #gerações posteriores\n",
    "    elif i>0:\n",
    "        nova_melhor_pop = melhor_pop[0:int(n_pop/2),:]\n",
    "\n",
    "        nova_pop = criaPop(int(n_pop/2),dim)\n",
    "\n",
    "        nova_pop = converter1(nova_pop)\n",
    "        \n",
    "        nova_pop = np.append(nova_pop,(f(nova_pop[0:,0:1],nova_pop[0:,1:2],nova_pop[0:,2:])).reshape(-1, 1), axis=1)\n",
    "\n",
    "        nova_melhor_pop = np.append(nova_melhor_pop,(nova_pop),axis= 0)\n",
    "\n",
    "        melhor_pop = nova_melhor_pop[nova_melhor_pop[0:, 3].argsort()]\n",
    "\n",
    "        #melhores individuos da geração\n",
    "        melhor_i.append(melhor_pop[0:1,-1])\n",
    "\n",
    "        evolucao = estagnacao(melhor_i[i-1],melhor_i[i])\n",
    "        \n",
    "        if evolucao <= delta:\n",
    "            cont += 1\n",
    "            \n",
    "        elif evolucao >= delta:\n",
    "            cont=0\n",
    "        \n",
    "        elif evolucao == cont:\n",
    "            break\n",
    "print('Número de iterações: ',i)\n",
    "    \n",
    "#media e desvio padrao dos fits\n",
    "media = sum(melhor_i)/len(melhor_i)\n",
    "desvioP = np.std(melhor_i,axis=0)\n",
    "melhor_i = np.array(melhor_i)\n",
    "melhor_i\n",
    "plt.plot(melhor_i)"
   ]
  },
  {
   "cell_type": "code",
   "execution_count": null,
   "id": "14c65da3",
   "metadata": {},
   "outputs": [],
   "source": []
  },
  {
   "cell_type": "code",
   "execution_count": null,
   "id": "7f22461f",
   "metadata": {},
   "outputs": [],
   "source": []
  },
  {
   "cell_type": "code",
   "execution_count": null,
   "id": "65219f0e",
   "metadata": {},
   "outputs": [],
   "source": []
  },
  {
   "cell_type": "code",
   "execution_count": null,
   "id": "457cd95d",
   "metadata": {},
   "outputs": [],
   "source": []
  },
  {
   "cell_type": "code",
   "execution_count": null,
   "id": "e77f49be",
   "metadata": {},
   "outputs": [],
   "source": []
  },
  {
   "cell_type": "markdown",
   "id": "520b6334",
   "metadata": {
    "scrolled": false
   },
   "source": [
    "## Segundo caso de teste"
   ]
  },
  {
   "cell_type": "code",
   "execution_count": 87,
   "id": "5a88eeff",
   "metadata": {},
   "outputs": [],
   "source": [
    "palavraAlvo = np.array([\n",
    "52.547,\n",
    "72.154,\n",
    "53.694,\n",
    "57.771,\n",
    "115.88,\n",
    "105.59,\n",
    "75.368,\n",
    "126.02,\n",
    "52.756,\n",
    "85.100,\n",
    "80.525,\n",
    "111.24,\n",
    "113.62,\n",
    "64.95,\n",
    "89.181,\n",
    "85.647,\n",
    "101.71,\n",
    "106.75,\n",
    "110.37,\n",
    "72.082,\n",
    "104.38,\n",
    "102.41,\n",
    "63.009,\n",
    "59.52,\n",
    "89.869,\n",
    "126.78,\n",
    "77.231,\n",
    "96.821,\n",
    "67.905,\n",
    "110.1])\n",
    "\n",
    "npop2 = np.size(palavraAlvo)"
   ]
  },
  {
   "cell_type": "code",
   "execution_count": 84,
   "id": "42ecae35",
   "metadata": {},
   "outputs": [],
   "source": [
    "def criaPalavra():\n",
    "    palavra = np.random.uniform(low=0, high=1, size=np.size(palavraAlvo)) #np.size(palavraAlvo)\n",
    "    palavra = np.round_(palavra, decimals = 3)\n",
    "    #!!COLOCAR EM OUTRA FUNC!!\n",
    "    lb = min(palavraAlvo)\n",
    "    ub = max(palavraAlvo)\n",
    "    novaPalavra =[]\n",
    "    for i in palavra:\n",
    "        novaPalavra=np.append(novaPalavra,lb + (ub - lb) * i)\n",
    "    return novaPalavra\n",
    "\n",
    "#Funcao fitness\n",
    "def diferenca(p1,p2):\n",
    "    diferenca = np.array([])\n",
    "    for i,j in zip(p1,p2):\n",
    "        diferenca=np.append(diferenca,((i - j)**2))\n",
    "    return diferenca"
   ]
  },
  {
   "cell_type": "code",
   "execution_count": 88,
   "id": "ac22cf30",
   "metadata": {},
   "outputs": [
    {
     "data": {
      "text/plain": [
       "array([[ 114.011924  , 3777.93688233],\n",
       "       [  91.073927  , 1484.32410406],\n",
       "       [ 106.885556  , 2952.67866817],\n",
       "       [ 106.440158  , 2904.47247921],\n",
       "       [  62.791154  ,  104.94269118],\n",
       "       [ 124.627243  , 5195.56143094],\n",
       "       [ 123.216816  , 4994.22289347],\n",
       "       [ 111.784934  , 3509.13282459],\n",
       "       [ 118.688603  , 4374.71164741],\n",
       "       [  96.715635  , 1950.86831776],\n",
       "       [  64.350047  ,  139.31191848],\n",
       "       [  61.083795  ,   72.87686887],\n",
       "       [  55.51632   ,    8.81686126],\n",
       "       [ 108.295983  , 3107.94910553],\n",
       "       [ 102.357343  , 2481.07026978],\n",
       "       [  77.340822  ,  614.73360937],\n",
       "       [  69.843289  ,  299.16161317],\n",
       "       [  86.69418   , 1166.02990195],\n",
       "       [  71.921813  ,  375.38337878],\n",
       "       [  84.838355  , 1042.73160774],\n",
       "       [  81.794802  ,  855.43392183],\n",
       "       [ 121.360991  , 4735.36535735],\n",
       "       [ 123.662214  , 5057.37366227],\n",
       "       [  55.739019  ,   10.1889853 ],\n",
       "       [ 111.784934  , 3509.13282459],\n",
       "       [  76.227327  ,  560.75788683],\n",
       "       [  79.642045  ,  734.14146355],\n",
       "       [  57.075213  ,   20.50471297],\n",
       "       [ 102.802741  , 2525.63950346],\n",
       "       [ 111.562235  , 3482.79796211]])"
      ]
     },
     "execution_count": 88,
     "metadata": {},
     "output_type": "execute_result"
    }
   ],
   "source": [
    "#palavra + fit\n",
    "palavra = [criaPalavra()]\n",
    "palavra.append(diferenca(palavraAlvo,palavra))\n",
    "palavra = np.array(palavra).T\n",
    "palavra"
   ]
  },
  {
   "cell_type": "code",
   "execution_count": 89,
   "id": "3bf3a60b",
   "metadata": {},
   "outputs": [
    {
     "data": {
      "text/plain": [
       "array([[  55.51632   ,    8.81686126],\n",
       "       [  55.739019  ,   10.1889853 ],\n",
       "       [  57.075213  ,   20.50471297],\n",
       "       [  61.083795  ,   72.87686887],\n",
       "       [  62.791154  ,  104.94269118],\n",
       "       [  64.350047  ,  139.31191848],\n",
       "       [  69.843289  ,  299.16161317],\n",
       "       [  71.921813  ,  375.38337878],\n",
       "       [  76.227327  ,  560.75788683],\n",
       "       [  77.340822  ,  614.73360937],\n",
       "       [  79.642045  ,  734.14146355],\n",
       "       [  81.794802  ,  855.43392183],\n",
       "       [  84.838355  , 1042.73160774],\n",
       "       [  86.69418   , 1166.02990195],\n",
       "       [  91.073927  , 1484.32410406]])"
      ]
     },
     "execution_count": 89,
     "metadata": {},
     "output_type": "execute_result"
    }
   ],
   "source": [
    "#ordenação\n",
    "palavra_ord = palavra[palavra[0:, -1].argsort()]\n",
    "#50% melhores\n",
    "melhor_palavra = palavra_ord[0:int(npop2/2),:]\n",
    "melhor_palavra"
   ]
  },
  {
   "cell_type": "markdown",
   "id": "3e50741b",
   "metadata": {},
   "source": [
    "## Terceiro caso de teste"
   ]
  },
  {
   "cell_type": "code",
   "execution_count": null,
   "id": "95bbf294",
   "metadata": {},
   "outputs": [],
   "source": []
  },
  {
   "cell_type": "code",
   "execution_count": null,
   "id": "ccc59e4b",
   "metadata": {},
   "outputs": [],
   "source": []
  },
  {
   "cell_type": "code",
   "execution_count": null,
   "id": "c4d9c033",
   "metadata": {},
   "outputs": [],
   "source": []
  }
 ],
 "metadata": {
  "kernelspec": {
   "display_name": "Python 3 (ipykernel)",
   "language": "python",
   "name": "python3"
  },
  "language_info": {
   "codemirror_mode": {
    "name": "ipython",
    "version": 3
   },
   "file_extension": ".py",
   "mimetype": "text/x-python",
   "name": "python",
   "nbconvert_exporter": "python",
   "pygments_lexer": "ipython3",
   "version": "3.9.7"
  }
 },
 "nbformat": 4,
 "nbformat_minor": 5
}
