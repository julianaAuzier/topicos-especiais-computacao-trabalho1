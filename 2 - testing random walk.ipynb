{
 "cells": [
  {
   "cell_type": "code",
   "execution_count": 1,
   "id": "dc4ea628",
   "metadata": {},
   "outputs": [],
   "source": [
    "import numpy as np\n",
    "import matplotlib.pyplot as plt\n",
    "import pandas as pd"
   ]
  },
  {
   "cell_type": "code",
   "execution_count": 2,
   "id": "6ba667ba",
   "metadata": {},
   "outputs": [],
   "source": [
    "#funcao\n",
    "def f(x,y,z):\n",
    "    return 10 * (x - 1)**2 + 20 * (y - 2)**2 + 30 * (z - 3)**2\n",
    "\n",
    "#população\n",
    "def criaPop3d(tamanho):\n",
    "    pop = np.random.uniform(low=0 , high=1 , size = (tamanho,3))\n",
    "    #converter valores\n",
    "    lb = [-3,-2,0]\n",
    "    ub = [3,4,6]\n",
    "    x = lb[0]+(ub[0]-lb[0])*pop[:,:1]\n",
    "    y = lb[1]+(ub[1]-lb[1])*pop[:,1:2]\n",
    "    z = lb[2]+(ub[2]-lb[2])*pop[:,2:]\n",
    "\n",
    "    #nova população com valores convertidos\n",
    "    popconv = np.append(x.reshape(-1, 1), y.reshape(-1, 1), axis=1)\n",
    "    popconv = np.append(popconv, z.reshape(-1, 1), axis=1)\n",
    "    return popconv\n"
   ]
  },
  {
   "cell_type": "markdown",
   "id": "762d12d2",
   "metadata": {},
   "source": [
    "## População 100"
   ]
  },
  {
   "cell_type": "code",
   "execution_count": 3,
   "id": "33d5a0ea",
   "metadata": {
    "scrolled": true
   },
   "outputs": [],
   "source": [
    "#população inicial\n",
    "pop=criaPop3d(100)\n",
    "\n",
    "#fitness\n",
    "pop = np.append(pop,(f(pop[0:,0:1],pop[0:,1:2],pop[0:,2:])).reshape(-1, 1), axis=1)\n",
    "\n",
    "#ordenação\n",
    "pop_ord = pop[pop[0:, 3].argsort()]\n",
    "\n",
    "#50% melhores\n",
    "melhor_pop_inicial = pop_ord[0:50,:]\n",
    "#print(pop_ord.shape,melhor_pop_inicial.shape)"
   ]
  },
  {
   "cell_type": "code",
   "execution_count": null,
   "id": "6b2bfa15",
   "metadata": {},
   "outputs": [],
   "source": [
    "#contagem de população estagnada\n",
    "cont = 0\n",
    "\n",
    "for i in range(500000):\n",
    "    #segunda geracao\n",
    "    if i==0:\n",
    "        nova_melhor_pop = melhor_pop_inicial.copy()\n",
    "\n",
    "        #nova população\n",
    "        nova_pop = criaPop3d(50)\n",
    "\n",
    "        #fitness da nova população\n",
    "        nova_pop = np.append(nova_pop,(f(nova_pop[0:,0:1],nova_pop[0:,1:2],nova_pop[0:,2:])).reshape(-1, 1), axis=1)\n",
    "\n",
    "        #melhor pop anterior + nova população\n",
    "        nova_melhor_pop = np.append(nova_melhor_pop,(nova_pop),axis= 0)\n",
    "\n",
    "        #reordena\n",
    "        melhor_pop = nova_melhor_pop[nova_melhor_pop[0:, 3].argsort()]\n",
    "        \n",
    "        #comparação entre populações\n",
    "        comparacao = np.array_equal(melhor_pop, melhor_pop_inicial)\n",
    "        #contagem de populações semelhantes (!ta errado!)\n",
    "        if comparacao == True:\n",
    "            cont = cont+1\n",
    "    \n",
    "    #gerações posteriores\n",
    "    elif i>0:\n",
    "        nova_melhor_pop = melhor_pop[0:50,:]\n",
    "\n",
    "        nova_pop = criaPop3d(50)\n",
    "\n",
    "        nova_pop = np.append(nova_pop,(f(nova_pop[0:,0:1],nova_pop[0:,1:2],nova_pop[0:,2:])).reshape(-1, 1), axis=1)\n",
    "\n",
    "        nova_melhor_pop = np.append(nova_melhor_pop,(nova_pop),axis= 0)\n",
    "\n",
    "        melhor_pop = nova_melhor_pop[nova_melhor_pop[0:, 3].argsort()]\n",
    "        \n",
    "        comparacao = np.array_equal(nova_melhor_pop, melhor_pop)\n",
    "        if comparacao == True:\n",
    "            cont = cont+1\n",
    "\n",
    "            \n",
    "print(cont,o, '\\n',melhor_pop)"
   ]
  },
  {
   "cell_type": "code",
   "execution_count": null,
   "id": "fc031c8a",
   "metadata": {
    "scrolled": false
   },
   "outputs": [],
   "source": []
  },
  {
   "cell_type": "code",
   "execution_count": null,
   "id": "48fff921",
   "metadata": {},
   "outputs": [],
   "source": []
  },
  {
   "cell_type": "code",
   "execution_count": null,
   "id": "7384aa3d",
   "metadata": {},
   "outputs": [],
   "source": []
  },
  {
   "cell_type": "code",
   "execution_count": null,
   "id": "2fbe701d",
   "metadata": {},
   "outputs": [],
   "source": []
  }
 ],
 "metadata": {
  "kernelspec": {
   "display_name": "Python 3 (ipykernel)",
   "language": "python",
   "name": "python3"
  },
  "language_info": {
   "codemirror_mode": {
    "name": "ipython",
    "version": 3
   },
   "file_extension": ".py",
   "mimetype": "text/x-python",
   "name": "python",
   "nbconvert_exporter": "python",
   "pygments_lexer": "ipython3",
   "version": "3.9.7"
  }
 },
 "nbformat": 4,
 "nbformat_minor": 5
}
