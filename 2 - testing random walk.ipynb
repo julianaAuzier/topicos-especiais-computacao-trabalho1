{
 "cells": [
  {
   "cell_type": "markdown",
   "id": "893a47a2",
   "metadata": {},
   "source": [
    "# Random Walk"
   ]
  },
  {
   "cell_type": "markdown",
   "id": "ea230e6d",
   "metadata": {},
   "source": [
    "### Índice\n",
    "1. [Primeiro caso de teste](#Primeiro-caso-de-teste)<br>\n",
    "    1.1. [Resultados do Primeiro Caso de Teste](#Resultados-do-Primeiro-Caso-de-Teste)<br>\n",
    "2. [Segundo caso de teste](#Segundo-caso-de-teste)<br>\n",
    "    2.1. [Resultado do Segundo Caso de Teste](#Resultado-do-Segundo-Caso-de-Teste)<br>\n",
    "3. [Terceiro caso de teste](#Terceiro-caso-de-teste)<br>\n",
    "    3.1. [Resultados do Terceiro Caso de Teste](#Resultados-do-Terceiro-Caso-de-Teste)"
   ]
  },
  {
   "cell_type": "code",
   "execution_count": 1,
   "id": "dc4ea628",
   "metadata": {},
   "outputs": [],
   "source": [
    "pathFileImages = 'C:/Users/julia/TOPICOS ESPECIAIS EM COMPUTAÇAO/'\n",
    "\n",
    "from IPython.display import Image\n",
    "import numpy as np\n",
    "import matplotlib.pyplot as plt\n",
    "import pandas as pd\n",
    "import math"
   ]
  },
  {
   "cell_type": "markdown",
   "id": "bf913810",
   "metadata": {},
   "source": [
    "## Primeiro caso de teste"
   ]
  },
  {
   "cell_type": "code",
   "execution_count": 2,
   "id": "1ed33779",
   "metadata": {},
   "outputs": [],
   "source": [
    "#função fitness\n",
    "def f(x,y,z):\n",
    "    return 10 * (x - 1)**2 + 20 * (y - 2)**2 + 30 * (z - 3)**2\n",
    "\n",
    "def criaPop(tamanho,dim):\n",
    "    return np.random.uniform(0 , 1 , size = (tamanho,dim))\n",
    "\n",
    "def converter1(pop):\n",
    "    lb = [-3,-2,0]\n",
    "    ub = [3,4,6]\n",
    "    x = lb[0]+(ub[0]-lb[0])*pop[:,:1]\n",
    "    y = lb[1]+(ub[1]-lb[1])*pop[:,1:2]\n",
    "    z = lb[2]+(ub[2]-lb[2])*pop[:,2:]\n",
    "\n",
    "    #nova população com valores convertidos\n",
    "    popconv = np.append(x.reshape(-1, 1), y.reshape(-1, 1), axis=1)\n",
    "    popconv = np.append(popconv, z.reshape(-1, 1), axis=1)\n",
    "    return popconv\n",
    "\n",
    "def estagnacao(fitAnt, fitAtual):\n",
    "    return abs(fitAnt-fitAtual)/fitAtual\n"
   ]
  },
  {
   "cell_type": "code",
   "execution_count": 3,
   "id": "33d5a0ea",
   "metadata": {
    "scrolled": true
   },
   "outputs": [],
   "source": [
    "#população inicial (primeira geração)\n",
    "n_pop = 50\n",
    "dim = 3\n",
    "pop=criaPop(n_pop,dim)"
   ]
  },
  {
   "cell_type": "code",
   "execution_count": 4,
   "id": "ab91e5b1",
   "metadata": {},
   "outputs": [],
   "source": [
    "#converter para as faixas do primeiro caso de teste\n",
    "pop=converter1(pop)\n"
   ]
  },
  {
   "cell_type": "code",
   "execution_count": 5,
   "id": "b9dfb9c2",
   "metadata": {},
   "outputs": [],
   "source": [
    "#fitness\n",
    "pop = np.append(pop,(f(pop[0:,0:1],pop[0:,1:2],pop[0:,2:])).reshape(-1, 1), axis=1)\n"
   ]
  },
  {
   "cell_type": "code",
   "execution_count": 6,
   "id": "bef01448",
   "metadata": {},
   "outputs": [],
   "source": [
    "#ordenação\n",
    "pop_ord = pop[(pop[0:, -1]).argsort()]\n"
   ]
  },
  {
   "cell_type": "code",
   "execution_count": 7,
   "id": "f4f20230",
   "metadata": {},
   "outputs": [],
   "source": [
    "#50% melhores\n",
    "melhor_pop_inicial = pop_ord[0:int(n_pop/2),:]\n"
   ]
  },
  {
   "cell_type": "code",
   "execution_count": 8,
   "id": "a925021a",
   "metadata": {},
   "outputs": [],
   "source": [
    "#contagem de população estagnada\n",
    "cont = 0\n",
    "delta = 0.01\n",
    "sem_evoluir = 100\n",
    "i_desejadas = 5"
   ]
  },
  {
   "cell_type": "code",
   "execution_count": 9,
   "id": "6b2bfa15",
   "metadata": {
    "scrolled": true
   },
   "outputs": [
    {
     "data": {
      "text/html": [
       "<div>\n",
       "<style scoped>\n",
       "    .dataframe tbody tr th:only-of-type {\n",
       "        vertical-align: middle;\n",
       "    }\n",
       "\n",
       "    .dataframe tbody tr th {\n",
       "        vertical-align: top;\n",
       "    }\n",
       "\n",
       "    .dataframe thead th {\n",
       "        text-align: right;\n",
       "    }\n",
       "</style>\n",
       "<table border=\"1\" class=\"dataframe\">\n",
       "  <thead>\n",
       "    <tr style=\"text-align: right;\">\n",
       "      <th></th>\n",
       "      <th>0</th>\n",
       "      <th>0</th>\n",
       "      <th>0</th>\n",
       "      <th>0</th>\n",
       "      <th>0</th>\n",
       "    </tr>\n",
       "  </thead>\n",
       "  <tbody>\n",
       "    <tr>\n",
       "      <th>0</th>\n",
       "      <td>27.384925</td>\n",
       "      <td>30.191845</td>\n",
       "      <td>8.443825</td>\n",
       "      <td>12.225281</td>\n",
       "      <td>30.191845</td>\n",
       "    </tr>\n",
       "    <tr>\n",
       "      <th>1</th>\n",
       "      <td>4.896732</td>\n",
       "      <td>30.191845</td>\n",
       "      <td>8.443825</td>\n",
       "      <td>6.832728</td>\n",
       "      <td>16.045366</td>\n",
       "    </tr>\n",
       "    <tr>\n",
       "      <th>2</th>\n",
       "      <td>4.896732</td>\n",
       "      <td>30.191845</td>\n",
       "      <td>8.443825</td>\n",
       "      <td>6.832728</td>\n",
       "      <td>16.045366</td>\n",
       "    </tr>\n",
       "    <tr>\n",
       "      <th>3</th>\n",
       "      <td>4.896732</td>\n",
       "      <td>24.992317</td>\n",
       "      <td>8.443825</td>\n",
       "      <td>6.832728</td>\n",
       "      <td>16.045366</td>\n",
       "    </tr>\n",
       "    <tr>\n",
       "      <th>4</th>\n",
       "      <td>4.896732</td>\n",
       "      <td>24.992317</td>\n",
       "      <td>8.443825</td>\n",
       "      <td>6.832728</td>\n",
       "      <td>15.761265</td>\n",
       "    </tr>\n",
       "    <tr>\n",
       "      <th>...</th>\n",
       "      <td>...</td>\n",
       "      <td>...</td>\n",
       "      <td>...</td>\n",
       "      <td>...</td>\n",
       "      <td>...</td>\n",
       "    </tr>\n",
       "    <tr>\n",
       "      <th>95</th>\n",
       "      <td>3.106225</td>\n",
       "      <td>0.352724</td>\n",
       "      <td>1.080047</td>\n",
       "      <td>1.096271</td>\n",
       "      <td>2.025040</td>\n",
       "    </tr>\n",
       "    <tr>\n",
       "      <th>96</th>\n",
       "      <td>3.106225</td>\n",
       "      <td>0.352724</td>\n",
       "      <td>1.080047</td>\n",
       "      <td>1.096271</td>\n",
       "      <td>2.025040</td>\n",
       "    </tr>\n",
       "    <tr>\n",
       "      <th>97</th>\n",
       "      <td>3.106225</td>\n",
       "      <td>0.352724</td>\n",
       "      <td>1.080047</td>\n",
       "      <td>1.096271</td>\n",
       "      <td>2.025040</td>\n",
       "    </tr>\n",
       "    <tr>\n",
       "      <th>98</th>\n",
       "      <td>3.106225</td>\n",
       "      <td>0.352724</td>\n",
       "      <td>1.080047</td>\n",
       "      <td>1.096271</td>\n",
       "      <td>2.025040</td>\n",
       "    </tr>\n",
       "    <tr>\n",
       "      <th>99</th>\n",
       "      <td>3.106225</td>\n",
       "      <td>0.352724</td>\n",
       "      <td>1.080047</td>\n",
       "      <td>1.096271</td>\n",
       "      <td>2.025040</td>\n",
       "    </tr>\n",
       "  </tbody>\n",
       "</table>\n",
       "<p>100 rows × 5 columns</p>\n",
       "</div>"
      ],
      "text/plain": [
       "            0          0         0          0          0\n",
       "0   27.384925  30.191845  8.443825  12.225281  30.191845\n",
       "1    4.896732  30.191845  8.443825   6.832728  16.045366\n",
       "2    4.896732  30.191845  8.443825   6.832728  16.045366\n",
       "3    4.896732  24.992317  8.443825   6.832728  16.045366\n",
       "4    4.896732  24.992317  8.443825   6.832728  15.761265\n",
       "..        ...        ...       ...        ...        ...\n",
       "95   3.106225   0.352724  1.080047   1.096271   2.025040\n",
       "96   3.106225   0.352724  1.080047   1.096271   2.025040\n",
       "97   3.106225   0.352724  1.080047   1.096271   2.025040\n",
       "98   3.106225   0.352724  1.080047   1.096271   2.025040\n",
       "99   3.106225   0.352724  1.080047   1.096271   2.025040\n",
       "\n",
       "[100 rows x 5 columns]"
      ]
     },
     "execution_count": 9,
     "metadata": {},
     "output_type": "execute_result"
    }
   ],
   "source": [
    "tabela = pd.DataFrame()\n",
    "\n",
    "for j in range(i_desejadas):\n",
    "\n",
    "    melhor_i=[]\n",
    "\n",
    "    for i in range(sem_evoluir):\n",
    "        #segunda geracao\n",
    "        if i==0:\n",
    "            nova_melhor_pop = melhor_pop_inicial.copy()\n",
    "\n",
    "            #novos 50% da população\n",
    "            nova_pop = criaPop(int(n_pop/2),dim)\n",
    "\n",
    "            #converter para as faixas\n",
    "            nova_pop = converter1(nova_pop)\n",
    "\n",
    "            #fitness da nova população\n",
    "            nova_pop = np.append(nova_pop,(f(nova_pop[0:,0:1],nova_pop[0:,1:2],nova_pop[0:,2:])).reshape(-1, 1), axis=1)\n",
    "\n",
    "            #melhor 50% pop anterior + 50% nova população\n",
    "            nova_melhor_pop = np.append(nova_melhor_pop,(nova_pop),axis= 0)\n",
    "\n",
    "            #reordena\n",
    "            melhor_pop = nova_melhor_pop[(nova_melhor_pop[0:, -1]).argsort()]\n",
    "\n",
    "            #melhor fit dessa geração\n",
    "            melhor_i.append(melhor_pop[0:1,-1])\n",
    "            \n",
    "        #gerações posteriores\n",
    "        elif i>0:\n",
    "            nova_melhor_pop = melhor_pop[0:int(n_pop/2),:]\n",
    "\n",
    "            nova_pop = criaPop(int(n_pop/2),dim)\n",
    "\n",
    "            nova_pop = converter1(nova_pop)\n",
    "\n",
    "            nova_pop = np.append(nova_pop,(f(nova_pop[0:,0:1],nova_pop[0:,1:2],nova_pop[0:,2:])).reshape(-1, 1), axis=1)\n",
    "\n",
    "            nova_melhor_pop = np.append(nova_melhor_pop,(nova_pop),axis= 0)\n",
    "\n",
    "            melhor_pop = nova_melhor_pop[nova_melhor_pop[0:, -1].argsort()]\n",
    "\n",
    "            melhor_i.append(melhor_pop[0:1,-1])\n",
    "\n",
    "            evolucao = estagnacao(melhor_i[i-1],melhor_i[i])\n",
    "\n",
    "            if evolucao <= delta:\n",
    "                cont += 1\n",
    "\n",
    "            elif evolucao > delta:\n",
    "                cont=0\n",
    "\n",
    "            elif sem_evoluir == cont:\n",
    "                continue\n",
    "\n",
    "    tabela = pd.concat([tabela, pd.DataFrame(melhor_i)], axis=1)\n",
    "\n",
    "#media e desvio padrao dos fits\n",
    "desvioP = np.std(tabela,axis=1)\n",
    "media = np.mean(tabela,axis=1)\n",
    "desvioSup = media + desvioP\n",
    "desvioInf = media - desvioP\n",
    "tabela"
   ]
  },
  {
   "cell_type": "code",
   "execution_count": 10,
   "id": "457cd95d",
   "metadata": {
    "scrolled": true
   },
   "outputs": [],
   "source": [
    "#plt.title(\"Média de Fitness Por Geração\")\n",
    "#plt.xlabel(\"Geração\")\n",
    "#plt.ylabel(\"Média e Desvio Padrão de Fitness\")\n",
    "#plt.plot(media, color = \"red\", label = \"Média\")\n",
    "#plt.fill_between(range(len(media)), desvioSup, desvioInf, facecolor='red', alpha=0.3, label ='Desvio padrão')\n",
    "#plt.grid(True)\n",
    "#plt.legend()\n",
    "#plt.show()\n",
    "#print('\\nNúmero de iterações para a última convergência: ',i+1)"
   ]
  },
  {
   "cell_type": "markdown",
   "id": "dae7d207",
   "metadata": {},
   "source": [
    "## Resultados do Primeiro Caso de Teste"
   ]
  },
  {
   "cell_type": "markdown",
   "id": "f01fea9e",
   "metadata": {},
   "source": [
    "### População de tamanho 10"
   ]
  },
  {
   "cell_type": "code",
   "execution_count": 11,
   "id": "151906ed",
   "metadata": {},
   "outputs": [
    {
     "data": {
      "image/png": "[encoded data removed]",
      "text/plain": [
       "<IPython.core.display.Image object>"
      ]
     },
     "execution_count": 11,
     "metadata": {},
     "output_type": "execute_result"
    }
   ],
   "source": [
    "Image(filename = pathFileImages + '1 Caso de teste - pop10.png')"
   ]
  },
  {
   "cell_type": "markdown",
   "id": "2058306c",
   "metadata": {},
   "source": [
    "### População de tamanho 50"
   ]
  },
  {
   "cell_type": "code",
   "execution_count": 12,
   "id": "e63bf9d7",
   "metadata": {},
   "outputs": [
    {
     "data": {
      "image/png": "[encoded data removed]",
      "text/plain": [
       "<IPython.core.display.Image object>"
      ]
     },
     "execution_count": 12,
     "metadata": {},
     "output_type": "execute_result"
    }
   ],
   "source": [
    "Image(filename = pathFileImages + '1 Caso de teste - pop50.png')"
   ]
  },
  {
   "cell_type": "markdown",
   "id": "3478861c",
   "metadata": {},
   "source": [
    "### População de tamanho 100"
   ]
  },
  {
   "cell_type": "code",
   "execution_count": 13,
   "id": "c3e965d7",
   "metadata": {},
   "outputs": [
    {
     "data": {
      "image/png": "[encoded data removed]",
      "text/plain": [
       "<IPython.core.display.Image object>"
      ]
     },
     "execution_count": 13,
     "metadata": {},
     "output_type": "execute_result"
    }
   ],
   "source": [
    "Image(filename = pathFileImages + '1 Caso de teste - pop100.png')"
   ]
  },
  {
   "cell_type": "markdown",
   "id": "5f4f4ef2",
   "metadata": {},
   "source": [
    "[Início](#Índice)"
   ]
  },
  {
   "cell_type": "markdown",
   "id": "520b6334",
   "metadata": {
    "scrolled": false
   },
   "source": [
    "## Segundo caso de teste"
   ]
  },
  {
   "cell_type": "code",
   "execution_count": 14,
   "id": "5a88eeff",
   "metadata": {},
   "outputs": [],
   "source": [
    "palavraAlvo = np.array([\n",
    "52.547,\n",
    "72.154,\n",
    "53.694,\n",
    "57.771,\n",
    "115.88,\n",
    "105.59,\n",
    "75.368,\n",
    "126.02,\n",
    "52.756,\n",
    "85.100,\n",
    "80.525,\n",
    "111.24,\n",
    "113.62,\n",
    "64.95,\n",
    "89.181,\n",
    "85.647,\n",
    "101.71,\n",
    "106.75,\n",
    "110.37,\n",
    "72.082,\n",
    "104.38,\n",
    "102.41,\n",
    "63.009,\n",
    "59.52,\n",
    "89.869,\n",
    "126.78,\n",
    "77.231,\n",
    "96.821,\n",
    "67.905,\n",
    "110.1])"
   ]
  },
  {
   "cell_type": "code",
   "execution_count": 15,
   "id": "b0b581cb",
   "metadata": {},
   "outputs": [],
   "source": [
    "tamanho_2 = palavraAlvo.size\n",
    "dim_2 = 1"
   ]
  },
  {
   "cell_type": "code",
   "execution_count": 16,
   "id": "42ecae35",
   "metadata": {},
   "outputs": [],
   "source": [
    "def converter2(palavra):\n",
    "    lb = min(palavraAlvo)\n",
    "    ub = max(palavraAlvo)\n",
    "    novaPalavra =[]\n",
    "    for i in palavra:\n",
    "        novaPalavra=np.append(novaPalavra,lb + (ub - lb) * i)\n",
    "    return novaPalavra\n",
    "\n",
    "#Funcao fitness\n",
    "def diferenca(p1,p2):\n",
    "    diferenca = np.array([])\n",
    "    for i,j in zip(p1,p2):\n",
    "        diferenca=np.append(diferenca,((i - j)**2))\n",
    "    return diferenca"
   ]
  },
  {
   "cell_type": "code",
   "execution_count": 17,
   "id": "a952377f",
   "metadata": {},
   "outputs": [],
   "source": [
    "#palavra aleatoria\n",
    "palavra = [converter2(criaPop(tamanho_2,dim_2))]\n"
   ]
  },
  {
   "cell_type": "code",
   "execution_count": 18,
   "id": "ac22cf30",
   "metadata": {},
   "outputs": [],
   "source": [
    "#palavra + fitness\n",
    "palavra.append(diferenca(palavraAlvo,palavra))\n",
    "palavra = np.array(palavra).T\n"
   ]
  },
  {
   "cell_type": "code",
   "execution_count": 19,
   "id": "3bf3a60b",
   "metadata": {},
   "outputs": [],
   "source": [
    "#ordenação e poda\n",
    "palavra_ord = palavra[(palavra[0:, -1]).argsort()]\n",
    "melhor_palavra_inicial = palavra_ord[0:int(tamanho_2/2),:]\n"
   ]
  },
  {
   "cell_type": "code",
   "execution_count": 20,
   "id": "887c694f",
   "metadata": {},
   "outputs": [],
   "source": [
    "#contagem de geração estagnada\n",
    "cont = 0\n",
    "delta = 0.01\n",
    "sem_evoluir = 100\n",
    "i_desejadas = 5"
   ]
  },
  {
   "cell_type": "code",
   "execution_count": 21,
   "id": "45dacd69",
   "metadata": {
    "scrolled": true
   },
   "outputs": [
    {
     "data": {
      "text/html": [
       "<div>\n",
       "<style scoped>\n",
       "    .dataframe tbody tr th:only-of-type {\n",
       "        vertical-align: middle;\n",
       "    }\n",
       "\n",
       "    .dataframe tbody tr th {\n",
       "        vertical-align: top;\n",
       "    }\n",
       "\n",
       "    .dataframe thead th {\n",
       "        text-align: right;\n",
       "    }\n",
       "</style>\n",
       "<table border=\"1\" class=\"dataframe\">\n",
       "  <thead>\n",
       "    <tr style=\"text-align: right;\">\n",
       "      <th></th>\n",
       "      <th>0</th>\n",
       "      <th>0</th>\n",
       "      <th>0</th>\n",
       "      <th>0</th>\n",
       "      <th>0</th>\n",
       "    </tr>\n",
       "  </thead>\n",
       "  <tbody>\n",
       "    <tr>\n",
       "      <th>0</th>\n",
       "      <td>0.812135</td>\n",
       "      <td>0.180253</td>\n",
       "      <td>0.010409</td>\n",
       "      <td>1.033910</td>\n",
       "      <td>1.033910</td>\n",
       "    </tr>\n",
       "    <tr>\n",
       "      <th>1</th>\n",
       "      <td>0.812135</td>\n",
       "      <td>0.180253</td>\n",
       "      <td>0.010409</td>\n",
       "      <td>1.033910</td>\n",
       "      <td>1.033910</td>\n",
       "    </tr>\n",
       "    <tr>\n",
       "      <th>2</th>\n",
       "      <td>0.812135</td>\n",
       "      <td>0.180253</td>\n",
       "      <td>0.010409</td>\n",
       "      <td>0.102164</td>\n",
       "      <td>0.163467</td>\n",
       "    </tr>\n",
       "    <tr>\n",
       "      <th>3</th>\n",
       "      <td>0.812135</td>\n",
       "      <td>0.180253</td>\n",
       "      <td>0.010409</td>\n",
       "      <td>0.102164</td>\n",
       "      <td>0.163467</td>\n",
       "    </tr>\n",
       "    <tr>\n",
       "      <th>4</th>\n",
       "      <td>0.812135</td>\n",
       "      <td>0.180253</td>\n",
       "      <td>0.010409</td>\n",
       "      <td>0.102164</td>\n",
       "      <td>0.163467</td>\n",
       "    </tr>\n",
       "    <tr>\n",
       "      <th>...</th>\n",
       "      <td>...</td>\n",
       "      <td>...</td>\n",
       "      <td>...</td>\n",
       "      <td>...</td>\n",
       "      <td>...</td>\n",
       "    </tr>\n",
       "    <tr>\n",
       "      <th>95</th>\n",
       "      <td>0.001055</td>\n",
       "      <td>0.001262</td>\n",
       "      <td>0.001353</td>\n",
       "      <td>0.000208</td>\n",
       "      <td>0.001499</td>\n",
       "    </tr>\n",
       "    <tr>\n",
       "      <th>96</th>\n",
       "      <td>0.001055</td>\n",
       "      <td>0.001262</td>\n",
       "      <td>0.000048</td>\n",
       "      <td>0.000208</td>\n",
       "      <td>0.001499</td>\n",
       "    </tr>\n",
       "    <tr>\n",
       "      <th>97</th>\n",
       "      <td>0.001055</td>\n",
       "      <td>0.001262</td>\n",
       "      <td>0.000048</td>\n",
       "      <td>0.000208</td>\n",
       "      <td>0.001499</td>\n",
       "    </tr>\n",
       "    <tr>\n",
       "      <th>98</th>\n",
       "      <td>0.001055</td>\n",
       "      <td>0.001262</td>\n",
       "      <td>0.000048</td>\n",
       "      <td>0.000208</td>\n",
       "      <td>0.001499</td>\n",
       "    </tr>\n",
       "    <tr>\n",
       "      <th>99</th>\n",
       "      <td>0.000831</td>\n",
       "      <td>0.001262</td>\n",
       "      <td>0.000048</td>\n",
       "      <td>0.000208</td>\n",
       "      <td>0.001499</td>\n",
       "    </tr>\n",
       "  </tbody>\n",
       "</table>\n",
       "<p>100 rows × 5 columns</p>\n",
       "</div>"
      ],
      "text/plain": [
       "           0         0         0         0         0\n",
       "0   0.812135  0.180253  0.010409  1.033910  1.033910\n",
       "1   0.812135  0.180253  0.010409  1.033910  1.033910\n",
       "2   0.812135  0.180253  0.010409  0.102164  0.163467\n",
       "3   0.812135  0.180253  0.010409  0.102164  0.163467\n",
       "4   0.812135  0.180253  0.010409  0.102164  0.163467\n",
       "..       ...       ...       ...       ...       ...\n",
       "95  0.001055  0.001262  0.001353  0.000208  0.001499\n",
       "96  0.001055  0.001262  0.000048  0.000208  0.001499\n",
       "97  0.001055  0.001262  0.000048  0.000208  0.001499\n",
       "98  0.001055  0.001262  0.000048  0.000208  0.001499\n",
       "99  0.000831  0.001262  0.000048  0.000208  0.001499\n",
       "\n",
       "[100 rows x 5 columns]"
      ]
     },
     "execution_count": 21,
     "metadata": {},
     "output_type": "execute_result"
    }
   ],
   "source": [
    "tabela2 = pd.DataFrame()\n",
    "for j in range(i_desejadas):\n",
    "\n",
    "    melhor_i=[]\n",
    "\n",
    "    for i in range(sem_evoluir):\n",
    "        \n",
    "        if i==0:\n",
    "            nova_melhor_pop = melhor_palavra_inicial.copy()\n",
    "\n",
    "            nova_pop = criaPop(int(tamanho_2/2),dim_2)\n",
    "\n",
    "            nova_pop = converter2(nova_pop)\n",
    "\n",
    "            nova_pop = np.c_[nova_pop,(diferenca(palavraAlvo,nova_pop))] #troca f\n",
    "\n",
    "            nova_melhor_pop = np.append(nova_melhor_pop,(nova_pop),axis= 0)\n",
    "\n",
    "            melhor_pop = nova_melhor_pop[nova_melhor_pop[0:, -1].argsort()] \n",
    "\n",
    "            melhor_i.append(melhor_pop[0:1,-1])\n",
    "            \n",
    "        elif i>0:\n",
    "            nova_melhor_pop = melhor_pop[0:int(tamanho_2/2),:]\n",
    "\n",
    "            nova_pop = criaPop(int(tamanho_2/2),dim_2)\n",
    "\n",
    "            nova_pop = converter2(nova_pop) \n",
    "\n",
    "            nova_pop = np.c_[nova_pop,(diferenca(palavraAlvo,nova_pop))]\n",
    "\n",
    "            nova_melhor_pop = np.append(nova_melhor_pop,(nova_pop),axis= 0)\n",
    "\n",
    "            melhor_pop = nova_melhor_pop[nova_melhor_pop[0:, -1].argsort()]\n",
    "\n",
    "            melhor_i.append(melhor_pop[0:1,-1])\n",
    "\n",
    "            evolucao = estagnacao(melhor_i[i-1],melhor_i[i])\n",
    "\n",
    "            if evolucao <= delta:\n",
    "                cont += 1\n",
    "\n",
    "            elif evolucao > delta:\n",
    "                cont=0\n",
    "\n",
    "            elif sem_evoluir == cont:\n",
    "                continue\n",
    "\n",
    "    tabela2 = pd.concat([tabela2, pd.DataFrame(melhor_i)], axis=1)\n",
    "\n",
    "#media e desvio padrao dos fits\n",
    "desvioP2 = np.std(tabela2,axis=1)\n",
    "media2 = np.mean(tabela2,axis=1)\n",
    "desvioInf2 = media2 - desvioP2\n",
    "desvioSup2 = media2 + desvioP2\n",
    "\n",
    "tabela2"
   ]
  },
  {
   "cell_type": "code",
   "execution_count": 22,
   "id": "c6c5dbac",
   "metadata": {},
   "outputs": [],
   "source": [
    "#plt.title(\"Média de Fitness Por Geração\")\n",
    "#plt.xlabel(\"Geração\")\n",
    "#plt.ylabel(\"Média e Desvio Padrão de Fitness\")\n",
    "#plt.plot(media2, color = \"green\", label = \"Média\")\n",
    "#plt.fill_between(range(len(media2)), desvioSup2, desvioInf2, facecolor='green', alpha=0.3, label ='Desvio padrão')\n",
    "#plt.grid(True)\n",
    "#plt.legend()\n",
    "#plt.show()\n",
    "#print('\\nNúmero de iterações para a última convergência: ',i+1)"
   ]
  },
  {
   "cell_type": "markdown",
   "id": "0b5aa041",
   "metadata": {},
   "source": [
    "## Resultado do Segundo Caso de Teste"
   ]
  },
  {
   "cell_type": "markdown",
   "id": "31a8379f",
   "metadata": {},
   "source": [
    "### População padrão: 30 indivíduos"
   ]
  },
  {
   "cell_type": "code",
   "execution_count": 23,
   "id": "499b7400",
   "metadata": {},
   "outputs": [
    {
     "data": {
      "image/png": "[encoded data removed]",
      "text/plain": [
       "<IPython.core.display.Image object>"
      ]
     },
     "execution_count": 23,
     "metadata": {},
     "output_type": "execute_result"
    }
   ],
   "source": [
    "Image(filename = pathFileImages + '2 Caso de teste - pop30.png')"
   ]
  },
  {
   "cell_type": "markdown",
   "id": "830c87ec",
   "metadata": {},
   "source": [
    "[Início](#Índice)<br>"
   ]
  },
  {
   "cell_type": "markdown",
   "id": "3e50741b",
   "metadata": {},
   "source": [
    "## Terceiro caso de teste"
   ]
  },
  {
   "cell_type": "code",
   "execution_count": 24,
   "id": "95bbf294",
   "metadata": {},
   "outputs": [],
   "source": [
    "tamanho_3 = 100\n",
    "dim_3 = 2\n",
    "\n",
    "def rastrigin(x):\n",
    "    fit=[]\n",
    "    for i in range(len(x)):\n",
    "        fit.append(10 * dim_3 + (x[i]**2 - (10 * math.cos(2 * math.pi * x[i]))))\n",
    "    return fit\n",
    "\n",
    "def converter3(pop):\n",
    "    lb = -5.12\n",
    "    ub = 5.12\n",
    "    novaPop = []\n",
    "    for i in pop:\n",
    "        novaPop.append(lb + (ub - lb) * i)\n",
    "    return np.array(novaPop)\n"
   ]
  },
  {
   "cell_type": "code",
   "execution_count": 25,
   "id": "ccc59e4b",
   "metadata": {},
   "outputs": [],
   "source": [
    "pop_3 = criaPop(tamanho_3,dim_3)\n",
    "pop_3 = pop_3.T"
   ]
  },
  {
   "cell_type": "code",
   "execution_count": 26,
   "id": "a897a535",
   "metadata": {},
   "outputs": [],
   "source": [
    "pop3 = converter3(pop_3)\n",
    "for i in pop3:\n",
    "    p=rastrigin(i)\n",
    "p=np.array(p)"
   ]
  },
  {
   "cell_type": "code",
   "execution_count": 27,
   "id": "0afe79ba",
   "metadata": {},
   "outputs": [],
   "source": [
    "#pop add fitness\n",
    "pop_3 = pop_3.T\n",
    "pop_3 = np.append(pop_3,p.reshape(-1,1),axis=1)\n"
   ]
  },
  {
   "cell_type": "code",
   "execution_count": 28,
   "id": "c4d9c033",
   "metadata": {},
   "outputs": [],
   "source": [
    "pop3 = pop_3[abs(pop_3[0:,-1]).argsort()] \n",
    "melhor_pop3_inicial= pop3[0:int(tamanho_3/2),:] \n"
   ]
  },
  {
   "cell_type": "code",
   "execution_count": 29,
   "id": "0f41f44f",
   "metadata": {},
   "outputs": [],
   "source": [
    "#contagem de geração estagnada\n",
    "cont = 0\n",
    "delta = 0.01\n",
    "sem_evoluir = 100\n",
    "i_desejadas = 5"
   ]
  },
  {
   "cell_type": "code",
   "execution_count": 30,
   "id": "cc9a091b",
   "metadata": {},
   "outputs": [
    {
     "data": {
      "text/html": [
       "<div>\n",
       "<style scoped>\n",
       "    .dataframe tbody tr th:only-of-type {\n",
       "        vertical-align: middle;\n",
       "    }\n",
       "\n",
       "    .dataframe tbody tr th {\n",
       "        vertical-align: top;\n",
       "    }\n",
       "\n",
       "    .dataframe thead th {\n",
       "        text-align: right;\n",
       "    }\n",
       "</style>\n",
       "<table border=\"1\" class=\"dataframe\">\n",
       "  <thead>\n",
       "    <tr style=\"text-align: right;\">\n",
       "      <th></th>\n",
       "      <th>0</th>\n",
       "      <th>0</th>\n",
       "      <th>0</th>\n",
       "      <th>0</th>\n",
       "      <th>0</th>\n",
       "    </tr>\n",
       "  </thead>\n",
       "  <tbody>\n",
       "    <tr>\n",
       "      <th>0</th>\n",
       "      <td>10.010121</td>\n",
       "      <td>10.024562</td>\n",
       "      <td>10.024562</td>\n",
       "      <td>10.000742</td>\n",
       "      <td>10.024562</td>\n",
       "    </tr>\n",
       "    <tr>\n",
       "      <th>1</th>\n",
       "      <td>10.010121</td>\n",
       "      <td>10.024562</td>\n",
       "      <td>10.024562</td>\n",
       "      <td>10.000742</td>\n",
       "      <td>10.024562</td>\n",
       "    </tr>\n",
       "    <tr>\n",
       "      <th>2</th>\n",
       "      <td>10.010121</td>\n",
       "      <td>10.024562</td>\n",
       "      <td>10.024562</td>\n",
       "      <td>10.000742</td>\n",
       "      <td>10.024562</td>\n",
       "    </tr>\n",
       "    <tr>\n",
       "      <th>3</th>\n",
       "      <td>10.010121</td>\n",
       "      <td>10.024562</td>\n",
       "      <td>10.024562</td>\n",
       "      <td>10.000742</td>\n",
       "      <td>10.024562</td>\n",
       "    </tr>\n",
       "    <tr>\n",
       "      <th>4</th>\n",
       "      <td>10.006318</td>\n",
       "      <td>10.024562</td>\n",
       "      <td>10.024562</td>\n",
       "      <td>10.000742</td>\n",
       "      <td>10.024562</td>\n",
       "    </tr>\n",
       "    <tr>\n",
       "      <th>...</th>\n",
       "      <td>...</td>\n",
       "      <td>...</td>\n",
       "      <td>...</td>\n",
       "      <td>...</td>\n",
       "      <td>...</td>\n",
       "    </tr>\n",
       "    <tr>\n",
       "      <th>95</th>\n",
       "      <td>10.000000</td>\n",
       "      <td>10.000621</td>\n",
       "      <td>10.001810</td>\n",
       "      <td>10.000742</td>\n",
       "      <td>10.000107</td>\n",
       "    </tr>\n",
       "    <tr>\n",
       "      <th>96</th>\n",
       "      <td>10.000000</td>\n",
       "      <td>10.000621</td>\n",
       "      <td>10.001810</td>\n",
       "      <td>10.000742</td>\n",
       "      <td>10.000107</td>\n",
       "    </tr>\n",
       "    <tr>\n",
       "      <th>97</th>\n",
       "      <td>10.000000</td>\n",
       "      <td>10.000621</td>\n",
       "      <td>10.001810</td>\n",
       "      <td>10.000742</td>\n",
       "      <td>10.000107</td>\n",
       "    </tr>\n",
       "    <tr>\n",
       "      <th>98</th>\n",
       "      <td>10.000000</td>\n",
       "      <td>10.000621</td>\n",
       "      <td>10.001810</td>\n",
       "      <td>10.000742</td>\n",
       "      <td>10.000107</td>\n",
       "    </tr>\n",
       "    <tr>\n",
       "      <th>99</th>\n",
       "      <td>10.000000</td>\n",
       "      <td>10.000621</td>\n",
       "      <td>10.001810</td>\n",
       "      <td>10.000742</td>\n",
       "      <td>10.000107</td>\n",
       "    </tr>\n",
       "  </tbody>\n",
       "</table>\n",
       "<p>100 rows × 5 columns</p>\n",
       "</div>"
      ],
      "text/plain": [
       "            0          0          0          0          0\n",
       "0   10.010121  10.024562  10.024562  10.000742  10.024562\n",
       "1   10.010121  10.024562  10.024562  10.000742  10.024562\n",
       "2   10.010121  10.024562  10.024562  10.000742  10.024562\n",
       "3   10.010121  10.024562  10.024562  10.000742  10.024562\n",
       "4   10.006318  10.024562  10.024562  10.000742  10.024562\n",
       "..        ...        ...        ...        ...        ...\n",
       "95  10.000000  10.000621  10.001810  10.000742  10.000107\n",
       "96  10.000000  10.000621  10.001810  10.000742  10.000107\n",
       "97  10.000000  10.000621  10.001810  10.000742  10.000107\n",
       "98  10.000000  10.000621  10.001810  10.000742  10.000107\n",
       "99  10.000000  10.000621  10.001810  10.000742  10.000107\n",
       "\n",
       "[100 rows x 5 columns]"
      ]
     },
     "execution_count": 30,
     "metadata": {},
     "output_type": "execute_result"
    }
   ],
   "source": [
    "tabela3 = pd.DataFrame()\n",
    "\n",
    "for j in range(i_desejadas):\n",
    "\n",
    "    melhor_i=[]\n",
    "\n",
    "    for i in range(sem_evoluir):\n",
    "        \n",
    "        if i==0:\n",
    "            nova_melhor_pop = melhor_pop3_inicial.copy()\n",
    "\n",
    "            nova_pop = np.array(criaPop(int(tamanho_3/2),dim_3)).T\n",
    "            \n",
    "            nova_pop = converter3(nova_pop)\n",
    "\n",
    "            for i in nova_pop:\n",
    "                fit=rastrigin(i)\n",
    "            fit=np.array(fit)\n",
    "            \n",
    "            nova_pop=nova_pop.T\n",
    "            nova_pop=np.c_[nova_pop,fit.T]\n",
    "            \n",
    "            nova_melhor_pop = np.append(nova_melhor_pop,(nova_pop),axis= 0)\n",
    "            \n",
    "            melhor_pop = nova_melhor_pop[abs(nova_melhor_pop[0:, -1]).argsort()]\n",
    "            \n",
    "            melhor_i.append(melhor_pop[0:1,-1])\n",
    "            \n",
    "        elif i>0:\n",
    "            nova_melhor_pop = melhor_pop[0:int(tamanho_3/2),:]\n",
    "\n",
    "            nova_pop = np.array(criaPop(int(tamanho_3/2),dim_3)).T\n",
    "            \n",
    "            nova_pop = converter3(nova_pop)\n",
    "\n",
    "            for k in nova_pop:\n",
    "                fit=rastrigin(k)\n",
    "            fit=np.array(fit)\n",
    "            \n",
    "            nova_pop=nova_pop.T\n",
    "            nova_pop=np.c_[nova_pop,fit.T]\n",
    "            \n",
    "            nova_melhor_pop = np.append(nova_melhor_pop,(nova_pop),axis= 0)\n",
    "            \n",
    "            melhor_pop = nova_melhor_pop[abs(nova_melhor_pop[0:, -1]).argsort()]\n",
    "            \n",
    "            melhor_i.append(melhor_pop[0:1,-1])\n",
    "            \n",
    "            evolucao = estagnacao(melhor_i[i-1],melhor_i[i])\n",
    "            \n",
    "            if evolucao <= delta:\n",
    "                cont += 1\n",
    "\n",
    "            elif evolucao > delta:\n",
    "                cont=0\n",
    "\n",
    "            elif sem_evoluir == cont:\n",
    "                continue\n",
    "\n",
    "    tabela3 = pd.concat([tabela3, pd.DataFrame(melhor_i)], axis=1)\n",
    "\n",
    "#media e desvio padrao dos fits\n",
    "desvioP3 = np.std(tabela3,axis=1)\n",
    "media3 = np.mean(tabela3,axis=1)\n",
    "desvioInf3 = media3 - desvioP3\n",
    "desvioSup3 = media3 + desvioP3\n",
    "\n",
    "tabela3"
   ]
  },
  {
   "cell_type": "code",
   "execution_count": 31,
   "id": "2e913d31",
   "metadata": {},
   "outputs": [],
   "source": [
    "#plt.title(\"Média de Fitness Por Geração\")\n",
    "#plt.xlabel(\"Geração\")\n",
    "#plt.ylabel(\"Média e Desvio Padrão de Fitness\")\n",
    "#plt.plot(media3, color = \"blue\", label = \"Média\")\n",
    "#plt.fill_between(range(len(media3)), desvioSup3, desvioInf3, facecolor='blue', alpha=0.3, label ='Desvio padrão')\n",
    "#plt.grid(True)\n",
    "#plt.legend()\n",
    "#plt.show()\n",
    "#print('\\nNúmero de iterações para a última convergência: ',i+1)"
   ]
  },
  {
   "cell_type": "markdown",
   "id": "f76863a4",
   "metadata": {},
   "source": [
    "## Resultados do Terceiro Caso de Teste"
   ]
  },
  {
   "cell_type": "markdown",
   "id": "2a6b03d8",
   "metadata": {},
   "source": [
    "### População de tamanho 10"
   ]
  },
  {
   "cell_type": "code",
   "execution_count": 32,
   "id": "85c7b671",
   "metadata": {},
   "outputs": [
    {
     "data": {
      "image/png": "[encoded data removed]",
      "text/plain": [
       "<IPython.core.display.Image object>"
      ]
     },
     "execution_count": 32,
     "metadata": {},
     "output_type": "execute_result"
    }
   ],
   "source": [
    "Image(filename = pathFileImages + '3 Caso de teste - pop10.png')"
   ]
  },
  {
   "cell_type": "markdown",
   "id": "d1a8d8dd",
   "metadata": {},
   "source": [
    "### População de tamanho 50"
   ]
  },
  {
   "cell_type": "code",
   "execution_count": 33,
   "id": "00d73caa",
   "metadata": {},
   "outputs": [
    {
     "data": {
      "image/png": "[encoded data removed]",
      "text/plain": [
       "<IPython.core.display.Image object>"
      ]
     },
     "execution_count": 33,
     "metadata": {},
     "output_type": "execute_result"
    }
   ],
   "source": [
    "Image(filename = pathFileImages + '3 Caso de teste - pop50.png')"
   ]
  },
  {
   "cell_type": "markdown",
   "id": "db96f438",
   "metadata": {},
   "source": [
    "### População de tamanho 100"
   ]
  },
  {
   "cell_type": "code",
   "execution_count": 34,
   "id": "00cfe4bf",
   "metadata": {},
   "outputs": [
    {
     "data": {
      "image/png": "[encoded data removed]",
      "text/plain": [
       "<IPython.core.display.Image object>"
      ]
     },
     "execution_count": 34,
     "metadata": {},
     "output_type": "execute_result"
    }
   ],
   "source": [
    "Image(filename = pathFileImages + '3 Caso de teste - pop100.png')"
   ]
  },
  {
   "cell_type": "markdown",
   "id": "5103eabe",
   "metadata": {},
   "source": [
    "[Início](#Índice)<br>"
   ]
  }
 ],
 "metadata": {
  "kernelspec": {
   "display_name": "Python 3 (ipykernel)",
   "language": "python",
   "name": "python3"
  },
  "language_info": {
   "codemirror_mode": {
    "name": "ipython",
    "version": 3
   },
   "file_extension": ".py",
   "mimetype": "text/x-python",
   "name": "python",
   "nbconvert_exporter": "python",
   "pygments_lexer": "ipython3",
   "version": "3.9.7"
  }
 },
 "nbformat": 4,
 "nbformat_minor": 5
}
