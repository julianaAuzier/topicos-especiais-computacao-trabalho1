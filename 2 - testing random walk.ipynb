{
 "cells": [
  {
   "cell_type": "markdown",
   "id": "893a47a2",
   "metadata": {},
   "source": [
    "# Random Walk"
   ]
  },
  {
   "cell_type": "markdown",
   "id": "ea230e6d",
   "metadata": {},
   "source": [
    "### Índice\n",
    "1. [Primeiro caso de teste](#Primeiro-caso-de-teste)<br>\n",
    "2. [Segundo caso de teste](#Segundo-caso-de-teste)\n",
    "3. [Terceiro caso de teste](#Terceiro-caso-de-teste)"
   ]
  },
  {
   "cell_type": "code",
   "execution_count": 39,
   "id": "dc4ea628",
   "metadata": {},
   "outputs": [],
   "source": [
    "import numpy as np\n",
    "import matplotlib.pyplot as plt\n",
    "import pandas as pd"
   ]
  },
  {
   "cell_type": "markdown",
   "id": "bf913810",
   "metadata": {},
   "source": [
    "## Primeiro caso de teste"
   ]
  },
  {
   "cell_type": "code",
   "execution_count": 40,
   "id": "1ed33779",
   "metadata": {},
   "outputs": [],
   "source": [
    "#funcao\n",
    "def f(x,y,z):\n",
    "    return 10 * (x - 1)**2 + 20 * (y - 2)**2 + 30 * (z - 3)**2\n",
    "\n",
    "def criaPop(tamanho,dim):\n",
    "    return np.random.uniform(0 , 1 , size = (tamanho,dim))\n",
    "\n",
    "def converter1(pop):\n",
    "    lb = [-3,-2,0]\n",
    "    ub = [3,4,6]\n",
    "    x = lb[0]+(ub[0]-lb[0])*pop[:,:1]\n",
    "    y = lb[1]+(ub[1]-lb[1])*pop[:,1:2]\n",
    "    z = lb[2]+(ub[2]-lb[2])*pop[:,2:]\n",
    "\n",
    "    #nova população com valores convertidos\n",
    "    popconv = np.append(x.reshape(-1, 1), y.reshape(-1, 1), axis=1)\n",
    "    popconv = np.append(popconv, z.reshape(-1, 1), axis=1)\n",
    "    return popconv\n",
    "\n",
    "def estagnacao(fitAnt, fitAtual):\n",
    "    return abs(fitAnt-fitAtual)/fitAtual\n"
   ]
  },
  {
   "cell_type": "code",
   "execution_count": 41,
   "id": "33d5a0ea",
   "metadata": {
    "scrolled": true
   },
   "outputs": [
    {
     "data": {
      "text/plain": [
       "array([[0.53826494, 0.92971806, 0.53254859],\n",
       "       [0.30411939, 0.99090181, 0.01710193],\n",
       "       [0.75999974, 0.15348794, 0.18836606],\n",
       "       [0.84525956, 0.44947645, 0.14976904],\n",
       "       [0.6878369 , 0.57271967, 0.13677911],\n",
       "       [0.3504367 , 0.69184519, 0.96001337],\n",
       "       [0.15410843, 0.7624096 , 0.12503918],\n",
       "       [0.45885952, 0.88844738, 0.76421261],\n",
       "       [0.55580479, 0.13623878, 0.37930994],\n",
       "       [0.40850619, 0.21830931, 0.15516412]])"
      ]
     },
     "execution_count": 41,
     "metadata": {},
     "output_type": "execute_result"
    }
   ],
   "source": [
    "#população inicial (primeira geração)\n",
    "n_pop = 10\n",
    "dim = 3\n",
    "pop=criaPop(n_pop,dim)\n",
    "pop"
   ]
  },
  {
   "cell_type": "code",
   "execution_count": 42,
   "id": "ab91e5b1",
   "metadata": {},
   "outputs": [
    {
     "data": {
      "text/plain": [
       "array([[ 0.22958964,  3.57830834,  3.19529156],\n",
       "       [-1.17528367,  3.94541085,  0.10261156],\n",
       "       [ 1.55999844, -1.07907236,  1.13019635],\n",
       "       [ 2.07155736,  0.69685868,  0.89861423],\n",
       "       [ 1.12702139,  1.436318  ,  0.82067466],\n",
       "       [-0.89737979,  2.15107112,  5.76008021],\n",
       "       [-2.07534941,  2.57445762,  0.75023505],\n",
       "       [-0.2468429 ,  3.33068431,  4.58527567],\n",
       "       [ 0.33482873, -1.1825673 ,  2.27585962],\n",
       "       [-0.54896286, -0.69014415,  0.93098472]])"
      ]
     },
     "execution_count": 42,
     "metadata": {},
     "output_type": "execute_result"
    }
   ],
   "source": [
    "#converter para as faixas do primeiro caso de teste\n",
    "pop=converter1(pop)\n",
    "pop"
   ]
  },
  {
   "cell_type": "code",
   "execution_count": 43,
   "id": "b9dfb9c2",
   "metadata": {},
   "outputs": [
    {
     "data": {
      "text/plain": [
       "array([[ 2.29589638e-01,  3.57830834e+00,  3.19529156e+00,\n",
       "         5.69006293e+01],\n",
       "       [-1.17528367e+00,  3.94541085e+00,  1.02611561e-01,\n",
       "         3.74856850e+02],\n",
       "       [ 1.55999844e+00, -1.07907236e+00,  1.13019635e+00,\n",
       "         2.97634685e+02],\n",
       "       [ 2.07155736e+00,  6.96858677e-01,  8.98614226e-01,\n",
       "         1.77920563e+02],\n",
       "       [ 1.12702139e+00,  1.43631800e+00,  8.20674663e-01,\n",
       "         1.48999860e+02],\n",
       "       [-8.97379787e-01,  2.15107112e+00,  5.76008021e+00,\n",
       "         2.64998232e+02],\n",
       "       [-2.07534941e+00,  2.57445762e+00,  7.50235052e-01,\n",
       "         2.53021041e+02],\n",
       "       [-2.46842902e-01,  3.33068431e+00,  4.58527567e+00,\n",
       "         1.26353555e+02],\n",
       "       [ 3.34828735e-01, -1.18256730e+00,  2.27585962e+00,\n",
       "         2.22730600e+02],\n",
       "       [-5.48962857e-01, -6.90144152e-01,  9.30984716e-01,\n",
       "         2.97155098e+02]])"
      ]
     },
     "execution_count": 43,
     "metadata": {},
     "output_type": "execute_result"
    }
   ],
   "source": [
    "#fitness\n",
    "pop = np.append(pop,(f(pop[0:,0:1],pop[0:,1:2],pop[0:,2:])).reshape(-1, 1), axis=1)\n",
    "pop"
   ]
  },
  {
   "cell_type": "code",
   "execution_count": 44,
   "id": "bef01448",
   "metadata": {},
   "outputs": [
    {
     "data": {
      "text/plain": [
       "array([[ 2.29589638e-01,  3.57830834e+00,  3.19529156e+00,\n",
       "         5.69006293e+01],\n",
       "       [-2.46842902e-01,  3.33068431e+00,  4.58527567e+00,\n",
       "         1.26353555e+02],\n",
       "       [ 1.12702139e+00,  1.43631800e+00,  8.20674663e-01,\n",
       "         1.48999860e+02],\n",
       "       [ 2.07155736e+00,  6.96858677e-01,  8.98614226e-01,\n",
       "         1.77920563e+02],\n",
       "       [ 3.34828735e-01, -1.18256730e+00,  2.27585962e+00,\n",
       "         2.22730600e+02],\n",
       "       [-2.07534941e+00,  2.57445762e+00,  7.50235052e-01,\n",
       "         2.53021041e+02],\n",
       "       [-8.97379787e-01,  2.15107112e+00,  5.76008021e+00,\n",
       "         2.64998232e+02],\n",
       "       [-5.48962857e-01, -6.90144152e-01,  9.30984716e-01,\n",
       "         2.97155098e+02],\n",
       "       [ 1.55999844e+00, -1.07907236e+00,  1.13019635e+00,\n",
       "         2.97634685e+02],\n",
       "       [-1.17528367e+00,  3.94541085e+00,  1.02611561e-01,\n",
       "         3.74856850e+02]])"
      ]
     },
     "execution_count": 44,
     "metadata": {},
     "output_type": "execute_result"
    }
   ],
   "source": [
    "#ordenação\n",
    "pop_ord = pop[pop[0:, -1].argsort()]\n",
    "pop_ord"
   ]
  },
  {
   "cell_type": "code",
   "execution_count": 45,
   "id": "f4f20230",
   "metadata": {},
   "outputs": [
    {
     "data": {
      "text/plain": [
       "array([[  0.22958964,   3.57830834,   3.19529156,  56.90062927],\n",
       "       [ -0.2468429 ,   3.33068431,   4.58527567, 126.35355498],\n",
       "       [  1.12702139,   1.436318  ,   0.82067466, 148.99985999],\n",
       "       [  2.07155736,   0.69685868,   0.89861423, 177.92056303],\n",
       "       [  0.33482873,  -1.1825673 ,   2.27585962, 222.73059981]])"
      ]
     },
     "execution_count": 45,
     "metadata": {},
     "output_type": "execute_result"
    }
   ],
   "source": [
    "#50% melhores\n",
    "melhor_pop_inicial = pop_ord[0:int(n_pop/2),:]\n",
    "melhor_pop_inicial"
   ]
  },
  {
   "cell_type": "code",
   "execution_count": 46,
   "id": "a925021a",
   "metadata": {},
   "outputs": [],
   "source": [
    "#contagem de população estagnada\n",
    "cont = 0\n",
    "delta = 0.01"
   ]
  },
  {
   "cell_type": "code",
   "execution_count": 49,
   "id": "6b2bfa15",
   "metadata": {
    "scrolled": true
   },
   "outputs": [],
   "source": [
    "sem_evoluir = 100\n",
    "i_desejadas = 10\n",
    "tabela = pd.DataFrame()\n",
    "\n",
    "for j in range(i_desejadas):\n",
    "\n",
    "    melhor_i=[]\n",
    "\n",
    "    for i in range(sem_evoluir):\n",
    "        #segunda geracao\n",
    "        if i==0:\n",
    "            nova_melhor_pop = melhor_pop_inicial.copy()\n",
    "\n",
    "            #novos 50% da população\n",
    "            nova_pop = criaPop(int(n_pop/2),dim)\n",
    "\n",
    "            #converter para as faixas\n",
    "            nova_pop = converter1(nova_pop)\n",
    "\n",
    "            #fitness da nova população\n",
    "            nova_pop = np.append(nova_pop,(f(nova_pop[0:,0:1],nova_pop[0:,1:2],nova_pop[0:,2:])).reshape(-1, 1), axis=1)\n",
    "\n",
    "            #melhor 50% pop anterior + 50% nova população\n",
    "            nova_melhor_pop = np.append(nova_melhor_pop,(nova_pop),axis= 0)\n",
    "\n",
    "            #reordena\n",
    "            melhor_pop = nova_melhor_pop[nova_melhor_pop[0:, 3].argsort()]\n",
    "\n",
    "            #melhor fit dessa geração\n",
    "            melhor_i.append(melhor_pop[0:1,-1])\n",
    "            \n",
    "        #gerações posteriores\n",
    "        elif i>0:\n",
    "            nova_melhor_pop = melhor_pop[0:int(n_pop/2),:]\n",
    "\n",
    "            nova_pop = criaPop(int(n_pop/2),dim)\n",
    "\n",
    "            nova_pop = converter1(nova_pop)\n",
    "\n",
    "            nova_pop = np.append(nova_pop,(f(nova_pop[0:,0:1],nova_pop[0:,1:2],nova_pop[0:,2:])).reshape(-1, 1), axis=1)\n",
    "\n",
    "            nova_melhor_pop = np.append(nova_melhor_pop,(nova_pop),axis= 0)\n",
    "\n",
    "            melhor_pop = nova_melhor_pop[nova_melhor_pop[0:, 3].argsort()]\n",
    "\n",
    "            #melhores fits da geração\n",
    "            melhor_i.append(melhor_pop[0:1,-1])\n",
    "\n",
    "            evolucao = estagnacao(melhor_i[i-1],melhor_i[i])\n",
    "\n",
    "            if evolucao <= delta:\n",
    "                cont += 1\n",
    "\n",
    "            elif evolucao >= delta:\n",
    "                cont=0\n",
    "\n",
    "            elif evolucao == cont:\n",
    "                continue\n",
    "\n",
    "    tabela = pd.concat([tabela, pd.DataFrame(melhor_i)], axis=1)\n",
    "    #print('Número de iterações para a convergência: ',i)\n",
    "\n",
    "#media e desvio padrao dos fits\n",
    "desvioP = np.std(tabela,axis=1)\n",
    "media = np.mean(tabela,axis=1)\n",
    "desvioInf = media - desvioP\n",
    "desvioSup = media + desvioP"
   ]
  },
  {
   "cell_type": "code",
   "execution_count": 50,
   "id": "457cd95d",
   "metadata": {},
   "outputs": [
    {
     "data": {
      "image/png": "[encoded data removed]",
      "text/plain": [
       "<Figure size 432x288 with 1 Axes>"
      ]
     },
     "metadata": {
      "needs_background": "light"
     },
     "output_type": "display_data"
    }
   ],
   "source": [
    "plt.title(\"Fitness por geração\")\n",
    "plt.xlabel(\"Geração\")\n",
    "plt.ylabel(\"\")\n",
    "plt.plot(desvioSup, color = \"green\", label = \"Desvio padrão Superior\")\n",
    "plt.plot(media, color = \"red\", label = \"Média dos valores fitness\")\n",
    "plt.plot(desvioInf, color = \"blue\", label = \"Desvio padrão Inferior\")\n",
    "plt.legend()\n",
    "plt.show()"
   ]
  },
  {
   "cell_type": "markdown",
   "id": "5f4f4ef2",
   "metadata": {},
   "source": [
    "[Início](#Índice)"
   ]
  },
  {
   "cell_type": "markdown",
   "id": "520b6334",
   "metadata": {
    "scrolled": false
   },
   "source": [
    "## Segundo caso de teste"
   ]
  },
  {
   "cell_type": "code",
   "execution_count": 245,
   "id": "5a88eeff",
   "metadata": {},
   "outputs": [],
   "source": [
    "palavraAlvo = np.array([\n",
    "52.547,\n",
    "72.154,\n",
    "53.694,\n",
    "57.771,\n",
    "115.88,\n",
    "105.59,\n",
    "75.368,\n",
    "126.02,\n",
    "52.756,\n",
    "85.100,\n",
    "80.525,\n",
    "111.24,\n",
    "113.62,\n",
    "64.95,\n",
    "89.181,\n",
    "85.647,\n",
    "101.71,\n",
    "106.75,\n",
    "110.37,\n",
    "72.082,\n",
    "104.38,\n",
    "102.41,\n",
    "63.009,\n",
    "59.52,\n",
    "89.869,\n",
    "126.78,\n",
    "77.231,\n",
    "96.821,\n",
    "67.905,\n",
    "110.1])"
   ]
  },
  {
   "cell_type": "code",
   "execution_count": 246,
   "id": "b0b581cb",
   "metadata": {},
   "outputs": [],
   "source": [
    "tamanho_2 = palavraAlvo.size\n",
    "dim_2 = 1"
   ]
  },
  {
   "cell_type": "code",
   "execution_count": 247,
   "id": "42ecae35",
   "metadata": {},
   "outputs": [],
   "source": [
    "def converter2(palavra):\n",
    "    lb = min(palavraAlvo)\n",
    "    ub = max(palavraAlvo)\n",
    "    novaPalavra =[]\n",
    "    for i in palavra:\n",
    "        novaPalavra=np.append(novaPalavra,lb + (ub - lb) * i)\n",
    "    return novaPalavra\n",
    "\n",
    "#Funcao fitness\n",
    "def diferenca(p1,p2):\n",
    "    diferenca = np.array([])\n",
    "    for i,j in zip(p1,p2):\n",
    "        diferenca=np.append(diferenca,((i - j)**2))\n",
    "    return diferenca"
   ]
  },
  {
   "cell_type": "code",
   "execution_count": 248,
   "id": "a952377f",
   "metadata": {},
   "outputs": [
    {
     "data": {
      "text/plain": [
       "[array([123.14204659, 124.66372597, 112.70818473,  75.87812399,\n",
       "         93.13742765, 116.42585792,  58.04078175,  97.310226  ,\n",
       "         57.58014596,  73.02834668,  82.96968783,  66.37227796,\n",
       "        103.18725135,  95.39916421,  67.93183428, 111.96823018,\n",
       "         81.92653361,  67.05302893,  78.284241  , 120.80087755,\n",
       "         91.18095435,  69.82770794,  84.53435777,  77.32086001,\n",
       "        124.20021176,  75.29500427,  76.09101225,  79.94494185,\n",
       "         77.81881445,  92.77317543])]"
      ]
     },
     "execution_count": 248,
     "metadata": {},
     "output_type": "execute_result"
    }
   ],
   "source": [
    "#palavra aleatoria\n",
    "palavra = [converter2(criaPop(tamanho_2,dim_2))]\n",
    "palavra"
   ]
  },
  {
   "cell_type": "code",
   "execution_count": 249,
   "id": "ac22cf30",
   "metadata": {},
   "outputs": [
    {
     "data": {
      "text/plain": [
       "array([[ 123.14204659, 4983.6606033 ],\n",
       "       [ 124.66372597, 5200.82216519],\n",
       "       [ 112.70818473, 3619.36814848],\n",
       "       [  75.87812399,  544.34134685],\n",
       "       [  93.13742765, 1647.58281705],\n",
       "       [ 116.42585792, 4080.50848903],\n",
       "       [  58.04078175,   30.18163789],\n",
       "       [  97.310226  , 2003.74640158],\n",
       "       [  57.58014596,   25.3325583 ],\n",
       "       [  73.02834668,  419.48556164],\n",
       "       [  82.96968783,  925.53993478],\n",
       "       [  66.37227796,  191.13831064],\n",
       "       [ 103.18725135, 2564.43505682],\n",
       "       [  95.39916421, 1836.30797786],\n",
       "       [  67.93183428,  236.69312571],\n",
       "       [ 111.96823018, 3530.88259602],\n",
       "       [  81.92653361,  863.15699507],\n",
       "       [  67.05302893,  210.42487521],\n",
       "       [  78.284241  ,  662.40557425],\n",
       "       [ 120.80087755, 4658.59180021],\n",
       "       [  91.18095435, 1492.58242841],\n",
       "       [  69.82770794,  298.6228669 ],\n",
       "       [  84.53435777, 1023.19105693],\n",
       "       [  77.32086001,  613.74413999],\n",
       "       [ 124.20021176, 5134.18275494],\n",
       "       [  75.29500427,  517.47169824],\n",
       "       [  76.09101225,  554.32051268],\n",
       "       [  79.94494185,  750.64721771],\n",
       "       [  77.81881445,  638.66460551],\n",
       "       [  92.77317543, 1618.14518961]])"
      ]
     },
     "execution_count": 249,
     "metadata": {},
     "output_type": "execute_result"
    }
   ],
   "source": [
    "#palavra + fitness\n",
    "palavra.append(diferenca(palavraAlvo,palavra))\n",
    "palavra = np.array(palavra).T\n",
    "palavra"
   ]
  },
  {
   "cell_type": "code",
   "execution_count": 250,
   "id": "3bf3a60b",
   "metadata": {},
   "outputs": [
    {
     "data": {
      "text/plain": [
       "array([[ 57.58014596,  25.3325583 ],\n",
       "       [ 58.04078175,  30.18163789],\n",
       "       [ 66.37227796, 191.13831064],\n",
       "       [ 67.05302893, 210.42487521],\n",
       "       [ 67.93183428, 236.69312571],\n",
       "       [ 69.82770794, 298.6228669 ],\n",
       "       [ 73.02834668, 419.48556164],\n",
       "       [ 75.29500427, 517.47169824],\n",
       "       [ 75.87812399, 544.34134685],\n",
       "       [ 76.09101225, 554.32051268],\n",
       "       [ 77.32086001, 613.74413999],\n",
       "       [ 77.81881445, 638.66460551],\n",
       "       [ 78.284241  , 662.40557425],\n",
       "       [ 79.94494185, 750.64721771],\n",
       "       [ 81.92653361, 863.15699507]])"
      ]
     },
     "execution_count": 250,
     "metadata": {},
     "output_type": "execute_result"
    }
   ],
   "source": [
    "#ordenar\n",
    "palavra_ord = palavra[palavra[0:, -1].argsort()]\n",
    "#50% melhores\n",
    "melhor_palavra = palavra_ord[0:int(tamanho_2/2),:]\n",
    "melhor_palavra"
   ]
  },
  {
   "cell_type": "code",
   "execution_count": null,
   "id": "887c694f",
   "metadata": {},
   "outputs": [],
   "source": [
    "#contagem de geração estagnada\n",
    "cont_2 = 0\n",
    "delta_2 = 0.01"
   ]
  },
  {
   "cell_type": "code",
   "execution_count": null,
   "id": "45dacd69",
   "metadata": {},
   "outputs": [],
   "source": []
  },
  {
   "cell_type": "markdown",
   "id": "830c87ec",
   "metadata": {},
   "source": [
    "[Início](#Índice)<br>"
   ]
  },
  {
   "cell_type": "markdown",
   "id": "3e50741b",
   "metadata": {},
   "source": [
    "## Terceiro caso de teste"
   ]
  },
  {
   "cell_type": "code",
   "execution_count": 252,
   "id": "95bbf294",
   "metadata": {},
   "outputs": [],
   "source": [
    "#função rastrigin\n",
    "def rastrigin(x):\n",
    "    return 10 * len(x) + sum(i * i - 10 * cos(2 * pi * i) for i in x)"
   ]
  },
  {
   "cell_type": "code",
   "execution_count": null,
   "id": "ccc59e4b",
   "metadata": {},
   "outputs": [],
   "source": []
  },
  {
   "cell_type": "code",
   "execution_count": null,
   "id": "c4d9c033",
   "metadata": {},
   "outputs": [],
   "source": []
  }
 ],
 "metadata": {
  "kernelspec": {
   "display_name": "Python 3 (ipykernel)",
   "language": "python",
   "name": "python3"
  },
  "language_info": {
   "codemirror_mode": {
    "name": "ipython",
    "version": 3
   },
   "file_extension": ".py",
   "mimetype": "text/x-python",
   "name": "python",
   "nbconvert_exporter": "python",
   "pygments_lexer": "ipython3",
   "version": "3.9.7"
  }
 },
 "nbformat": 4,
 "nbformat_minor": 5
}
