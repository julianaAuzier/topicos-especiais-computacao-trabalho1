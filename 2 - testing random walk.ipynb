{
 "cells": [
  {
   "cell_type": "code",
   "execution_count": 1,
   "id": "dc4ea628",
   "metadata": {},
   "outputs": [],
   "source": [
    "import numpy as np\n",
    "import matplotlib.pyplot as plt"
   ]
  },
  {
   "cell_type": "code",
   "execution_count": 2,
   "id": "6ba667ba",
   "metadata": {},
   "outputs": [],
   "source": [
    "#funcao\n",
    "def f(x,y,z):\n",
    "    return 10 * (x - 1)**2 + 20 * (y - 2)**2 + 30 * (z - 3)**2\n",
    "\n",
    "def criaPop3d(tamanho):\n",
    "    pop = np.random.uniform(0 , 1 , size = (tamanho,3))\n",
    "    #converter valores\n",
    "    lb = [-3,-2,0]\n",
    "    ub = [3,4,6]\n",
    "    x = lb[0]+(ub[0]-lb[0])*pop[:,:1]\n",
    "    y = lb[1]+(ub[1]-lb[1])*pop[:,1:2]\n",
    "    z = lb[2]+(ub[2]-lb[2])*pop[:,2:]\n",
    "\n",
    "    #nova população com valores convertidos\n",
    "    popconv = np.append(x.reshape(-1, 1), y.reshape(-1, 1), axis=1)\n",
    "    popconv = np.append(popconv, z.reshape(-1, 1), axis=1)\n",
    "    return popconv"
   ]
  },
  {
   "cell_type": "markdown",
   "id": "762d12d2",
   "metadata": {},
   "source": [
    "## Primeiro caso de teste"
   ]
  },
  {
   "cell_type": "code",
   "execution_count": 3,
   "id": "33d5a0ea",
   "metadata": {
    "scrolled": true
   },
   "outputs": [
    {
     "name": "stdout",
     "output_type": "stream",
     "text": [
      "(100, 4) (50, 4)\n"
     ]
    }
   ],
   "source": [
    "#população inicial\n",
    "npop = 100\n",
    "pop=criaPop3d(npop)\n",
    "\n",
    "#fitness\n",
    "pop = np.append(pop,(f(pop[0:,0:1],pop[0:,1:2],pop[0:,2:])).reshape(-1, 1), axis=1)\n",
    "\n",
    "#ordenação\n",
    "pop_ord = pop[pop[0:, 3].argsort()]\n",
    "\n",
    "#50% melhores\n",
    "melhor_pop_inicial = pop_ord[0:50,:]\n",
    "print(pop_ord.shape,melhor_pop_inicial.shape)"
   ]
  },
  {
   "cell_type": "code",
   "execution_count": 4,
   "id": "6b2bfa15",
   "metadata": {},
   "outputs": [],
   "source": [
    "#contagem de população estagnada\n",
    "cont = 0\n",
    "popMed=[]\n",
    "\n",
    "for i in range(5000): #com 500000 iterações os valores chega na casa de 10**(-3)\n",
    "    #segunda geracao\n",
    "    if i==0:\n",
    "        nova_melhor_pop = melhor_pop_inicial.copy()\n",
    "\n",
    "        #nova população\n",
    "        nova_pop = criaPop3d(50)\n",
    "\n",
    "        #fitness da nova população\n",
    "        nova_pop = np.append(nova_pop,(f(nova_pop[0:,0:1],nova_pop[0:,1:2],nova_pop[0:,2:])).reshape(-1, 1), axis=1)\n",
    "\n",
    "        #melhor pop anterior + nova população\n",
    "        nova_melhor_pop = np.append(nova_melhor_pop,(nova_pop),axis= 0)\n",
    "\n",
    "        #reordena\n",
    "        melhor_pop = nova_melhor_pop[nova_melhor_pop[0:, 3].argsort()]\n",
    "    \n",
    "        #acumula pop fit\n",
    "        popMed.append(melhor_pop[0:,3])\n",
    "        \n",
    "        #comparação entre populações\n",
    "        comparacao = np.array_equal(melhor_pop, melhor_pop_inicial)\n",
    "        \n",
    "        #contagem de populações semelhantes (!ta errado!)\n",
    "        if comparacao == True:\n",
    "            cont = cont+1\n",
    "    \n",
    "    #gerações posteriores\n",
    "    elif i>0:       \n",
    "        nova_melhor_pop = melhor_pop[0:50,:]\n",
    "\n",
    "        nova_pop = criaPop3d(50)\n",
    "\n",
    "        nova_pop = np.append(nova_pop,(f(nova_pop[0:,0:1],nova_pop[0:,1:2],nova_pop[0:,2:])).reshape(-1, 1), axis=1)\n",
    "\n",
    "        nova_melhor_pop = np.append(nova_melhor_pop,(nova_pop),axis= 0)\n",
    "\n",
    "        melhor_pop = nova_melhor_pop[nova_melhor_pop[0:, 3].argsort()]\n",
    "        \n",
    "        #acumula pop fit\n",
    "        popMed.append(melhor_pop[0:,3])\n",
    "        \n",
    "        comparacao = np.array_equal(nova_melhor_pop, melhor_pop)\n",
    "        if comparacao == True:\n",
    "            cont = cont+1\n",
    "            \n",
    "#media e desvio padrao dos fits\n",
    "popMed.append(sum(popMed)/len(popMed))\n",
    "popMed.append(np.std(popMed,axis=0))\n",
    "popMed = np.array(popMed).T\n",
    "#print(melhor_pop.shape)"
   ]
  },
  {
   "cell_type": "code",
   "execution_count": 5,
   "id": "2af2503b",
   "metadata": {},
   "outputs": [
    {
     "data": {
      "text/plain": [
       "[<matplotlib.lines.Line2D at 0x19b50e69d00>]"
      ]
     },
     "execution_count": 5,
     "metadata": {},
     "output_type": "execute_result"
    },
    {
     "data": {
      "image/png": "[encoded data removed]",
      "text/plain": [
       "<Figure size 432x288 with 1 Axes>"
      ]
     },
     "metadata": {
      "needs_background": "light"
     },
     "output_type": "display_data"
    }
   ],
   "source": [
    "plt.title(\"Individuos da melhor populacao\")\n",
    "plt.xlabel(\"Individuos\")\n",
    "plt.ylabel(\"Valor Fitness\")\n",
    "plt.plot(melhor_pop[:,-1], color = \"red\", label = \"\")\n",
    "#o fit dos melhores individuos fica semelhante a cada geração"
   ]
  },
  {
   "cell_type": "code",
   "execution_count": 6,
   "id": "4ea8dd61",
   "metadata": {},
   "outputs": [
    {
     "data": {
      "text/plain": [
       "<matplotlib.legend.Legend at 0x19b529bf370>"
      ]
     },
     "execution_count": 6,
     "metadata": {},
     "output_type": "execute_result"
    },
    {
     "data": {
      "image/png": "[encoded data removed]",
      "text/plain": [
       "<Figure size 432x288 with 1 Axes>"
      ]
     },
     "metadata": {
      "needs_background": "light"
     },
     "output_type": "display_data"
    }
   ],
   "source": [
    "plt.title(\"Média e desvio padrão entre os fitness das populações\")\n",
    "plt.xlabel(\"Fitness das gerações\")\n",
    "plt.ylabel(\"Desvio padrão\")\n",
    "plt.plot(popMed[:,-1], color = \"red\", label = \"Desvio padrão\")\n",
    "plt.plot(popMed[:,-2], color = \"blue\", label = \"Média\")\n",
    "plt.legend()"
   ]
  },
  {
   "cell_type": "code",
   "execution_count": null,
   "id": "59729917",
   "metadata": {},
   "outputs": [],
   "source": []
  },
  {
   "cell_type": "markdown",
   "id": "520b6334",
   "metadata": {
    "scrolled": false
   },
   "source": [
    "## Segundo caso de teste"
   ]
  },
  {
   "cell_type": "code",
   "execution_count": null,
   "id": "5a88eeff",
   "metadata": {},
   "outputs": [],
   "source": []
  },
  {
   "cell_type": "code",
   "execution_count": null,
   "id": "42ecae35",
   "metadata": {},
   "outputs": [],
   "source": []
  },
  {
   "cell_type": "markdown",
   "id": "76e2a4c5",
   "metadata": {},
   "source": [
    "## Terceiro caso de teste"
   ]
  },
  {
   "cell_type": "code",
   "execution_count": null,
   "id": "95bbf294",
   "metadata": {},
   "outputs": [],
   "source": []
  },
  {
   "cell_type": "code",
   "execution_count": null,
   "id": "ccc59e4b",
   "metadata": {},
   "outputs": [],
   "source": []
  },
  {
   "cell_type": "code",
   "execution_count": null,
   "id": "c4d9c033",
   "metadata": {},
   "outputs": [],
   "source": []
  }
 ],
 "metadata": {
  "kernelspec": {
   "display_name": "Python 3 (ipykernel)",
   "language": "python",
   "name": "python3"
  },
  "language_info": {
   "codemirror_mode": {
    "name": "ipython",
    "version": 3
   },
   "file_extension": ".py",
   "mimetype": "text/x-python",
   "name": "python",
   "nbconvert_exporter": "python",
   "pygments_lexer": "ipython3",
   "version": "3.9.7"
  }
 },
 "nbformat": 4,
 "nbformat_minor": 5
}
