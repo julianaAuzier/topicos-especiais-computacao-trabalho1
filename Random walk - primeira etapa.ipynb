{
 "cells": [
  {
   "cell_type": "markdown",
   "id": "24ab9946",
   "metadata": {},
   "source": [
    "# Trabalho 1 - Random walk"
   ]
  },
  {
   "cell_type": "markdown",
   "id": "761391f0",
   "metadata": {},
   "source": [
    "## Índice\n",
    "\n",
    "1. [Primeiro caso de teste](#1.-Primeiro-caso-de-teste)<br>\n",
    "    1.1. [Random Walk](#Random-Walk)<br>\n",
    "    1.2. [Otimização](#Otimização)\n",
    "2. [Segundo caso de teste](#2.-Segundo-caso-de-teste)\n",
    "3. [Terceiro caso de teste](#3.-Terceiro-caso-de-teste)"
   ]
  },
  {
   "cell_type": "markdown",
   "id": "a9e90ed5",
   "metadata": {},
   "source": [
    "## 1. Primeiro caso de teste"
   ]
  },
  {
   "cell_type": "code",
   "execution_count": 15,
   "id": "2d6ddd7f",
   "metadata": {},
   "outputs": [
    {
     "data": {
      "text/plain": [
       "array([[0.62610924, 0.03903488, 0.41523571],\n",
       "       [0.31176402, 0.85177924, 0.74878053],\n",
       "       [0.49039804, 0.9015492 , 0.90095929]])"
      ]
     },
     "execution_count": 15,
     "metadata": {},
     "output_type": "execute_result"
    }
   ],
   "source": [
    "import numpy as np\n",
    "\n",
    "pop = np.random.uniform(low=0 , high=1 , size = (3,3))\n",
    "pop"
   ]
  },
  {
   "cell_type": "code",
   "execution_count": 16,
   "id": "ba0517bc",
   "metadata": {},
   "outputs": [],
   "source": [
    "def funcao(x):\n",
    "    x1=x[0]\n",
    "    x2=x[1]\n",
    "    x3=x[2]\n",
    "    return 10 * (x1 - 1)**2 + 20 * (x2 - 2)**2 + 30 * (x3 - 3)**2"
   ]
  },
  {
   "cell_type": "code",
   "execution_count": 17,
   "id": "8e2e6836",
   "metadata": {},
   "outputs": [],
   "source": [
    "#converter valores\n",
    "lb = [-3,-2,0]\n",
    "ub = [3,4,6]\n",
    "x=[]\n",
    "for i in range(len(lb)):\n",
    "    x.append(lb[i]+(ub[i]-lb[i])*pop[0:,i:i+1])\n",
    "x=np.array(x)"
   ]
  },
  {
   "cell_type": "code",
   "execution_count": 18,
   "id": "1deffdcd",
   "metadata": {},
   "outputs": [
    {
     "data": {
      "text/plain": [
       "array([[291.97553973],\n",
       "       [136.85921073],\n",
       "       [224.53750964]])"
      ]
     },
     "execution_count": 18,
     "metadata": {},
     "output_type": "execute_result"
    }
   ],
   "source": [
    "result = funcao(x)\n",
    "result"
   ]
  },
  {
   "cell_type": "markdown",
   "id": "5052c05e",
   "metadata": {},
   "source": [
    "### Random Walk"
   ]
  },
  {
   "cell_type": "code",
   "execution_count": null,
   "id": "66d941ee",
   "metadata": {},
   "outputs": [],
   "source": []
  },
  {
   "cell_type": "code",
   "execution_count": null,
   "id": "154bfbed",
   "metadata": {},
   "outputs": [],
   "source": []
  },
  {
   "cell_type": "markdown",
   "id": "1846b7b4",
   "metadata": {},
   "source": [
    "### Otimização"
   ]
  },
  {
   "cell_type": "code",
   "execution_count": null,
   "id": "c03903b6",
   "metadata": {},
   "outputs": [],
   "source": []
  },
  {
   "cell_type": "code",
   "execution_count": null,
   "id": "e675c387",
   "metadata": {},
   "outputs": [],
   "source": []
  },
  {
   "cell_type": "code",
   "execution_count": null,
   "id": "8d3316e3",
   "metadata": {},
   "outputs": [],
   "source": []
  },
  {
   "cell_type": "markdown",
   "id": "fa9dbbec",
   "metadata": {},
   "source": [
    "## 2. Segundo caso de teste"
   ]
  },
  {
   "cell_type": "code",
   "execution_count": 19,
   "id": "8ce7323b",
   "metadata": {},
   "outputs": [
    {
     "data": {
      "text/plain": [
       "array([ 57.193,  54.756, 108.577, 107.619,  70.677,  70.348,  99.654,\n",
       "       126.456,  88.198, 115.176, 120.911,  86.306,  95.978, 114.081,\n",
       "        63.93 ,  87.614, 125.225,  54.751,  84.729,  91.758,  92.219,\n",
       "       100.282, 105.058,  56.302, 124.788,  53.771,  81.167, 110.181,\n",
       "       106.925,  76.185])"
      ]
     },
     "execution_count": 19,
     "metadata": {},
     "output_type": "execute_result"
    }
   ],
   "source": [
    "#Palavra alvo\n",
    "palavraAlvo = np.array([\n",
    "52.547,\n",
    "72.154,\n",
    "53.694,\n",
    "57.771,\n",
    "115.88,\n",
    "105.59,\n",
    "75.368,\n",
    "126.02,\n",
    "52.756,\n",
    "85.100,\n",
    "80.525,\n",
    "111.24,\n",
    "113.62,\n",
    "64.95,\n",
    "89.181,\n",
    "85.647,\n",
    "101.71,\n",
    "106.75,\n",
    "110.37,\n",
    "72.082,\n",
    "104.38,\n",
    "102.41,\n",
    "63.009,\n",
    "59.52,\n",
    "89.869,\n",
    "126.78,\n",
    "77.231,\n",
    "96.821,\n",
    "67.905,\n",
    "110.1])\n",
    "\n",
    "#Palavra aleatoria\n",
    "palavra = np.random.uniform(low=palavraAlvo.min(), high=palavraAlvo.max(), size=np.size(palavraAlvo))\n",
    "palavra = np.round_(palavra, decimals = 3)\n",
    "palavra"
   ]
  },
  {
   "cell_type": "code",
   "execution_count": 20,
   "id": "f008d1be",
   "metadata": {},
   "outputs": [],
   "source": [
    "#função diferença entre as palavras\n",
    "def pont(p1,p2):\n",
    "    import math\n",
    "    diferenca = []\n",
    "\n",
    "    for i,j in zip(p1,p2):\n",
    "        diferenca.append((i - j)**2)\n",
    "        pontuacao = sum(diferenca)\n",
    "    return pontuacao"
   ]
  },
  {
   "cell_type": "code",
   "execution_count": 21,
   "id": "851d4ac6",
   "metadata": {},
   "outputs": [
    {
     "data": {
      "text/plain": [
       "33125.333361000005"
      ]
     },
     "execution_count": 21,
     "metadata": {},
     "output_type": "execute_result"
    }
   ],
   "source": [
    "pont(palavraAlvo, palavra)"
   ]
  },
  {
   "cell_type": "markdown",
   "id": "eb74f566",
   "metadata": {},
   "source": [
    "## 3. Terceiro caso de teste"
   ]
  },
  {
   "cell_type": "code",
   "execution_count": 22,
   "id": "a854e44b",
   "metadata": {},
   "outputs": [],
   "source": [
    "#função rastrigin\n",
    "def rastrigin(x):\n",
    "    return 10 * len(x) + sum(i * i - 10 * cos(2 * pi * i) for i in x)"
   ]
  },
  {
   "cell_type": "code",
   "execution_count": null,
   "id": "d2511700",
   "metadata": {},
   "outputs": [],
   "source": []
  }
 ],
 "metadata": {
  "kernelspec": {
   "display_name": "Python 3 (ipykernel)",
   "language": "python",
   "name": "python3"
  },
  "language_info": {
   "codemirror_mode": {
    "name": "ipython",
    "version": 3
   },
   "file_extension": ".py",
   "mimetype": "text/x-python",
   "name": "python",
   "nbconvert_exporter": "python",
   "pygments_lexer": "ipython3",
   "version": "3.9.7"
  }
 },
 "nbformat": 4,
 "nbformat_minor": 5
}
